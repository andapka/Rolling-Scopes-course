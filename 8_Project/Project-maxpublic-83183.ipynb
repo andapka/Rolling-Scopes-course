{
 "cells": [
  {
   "cell_type": "code",
   "execution_count": 1,
   "metadata": {},
   "outputs": [],
   "source": [
    "import numpy as np\n",
    "import pandas as pd\n",
    "import seaborn as sns\n",
    "import matplotlib.pyplot as plt"
   ]
  },
  {
   "cell_type": "code",
   "execution_count": 2,
   "metadata": {},
   "outputs": [],
   "source": [
    "pd.set_option('display.max_columns', None)"
   ]
  },
  {
   "cell_type": "code",
   "execution_count": 129,
   "metadata": {},
   "outputs": [],
   "source": [
    "train = pd.read_csv('data/train.csv')\n",
    "test = pd.read_csv('data/test.csv')"
   ]
  },
  {
   "cell_type": "code",
   "execution_count": 130,
   "metadata": {},
   "outputs": [
    {
     "data": {
      "text/plain": [
       "((10471, 23), (2991, 22))"
      ]
     },
     "execution_count": 130,
     "metadata": {},
     "output_type": "execute_result"
    }
   ],
   "source": [
    "train.shape, test.shape"
   ]
  },
  {
   "cell_type": "code",
   "execution_count": 131,
   "metadata": {},
   "outputs": [],
   "source": [
    "train.loc[train['isExpelled'] == 'f', 'isExpelled'] = 0\n",
    "train.loc[train['isExpelled'] == 't', 'isExpelled'] = 1\n",
    "train['isExpelled'] = train['isExpelled'].astype(int)"
   ]
  },
  {
   "cell_type": "code",
   "execution_count": 132,
   "metadata": {},
   "outputs": [],
   "source": [
    "test.loc[test['isExpelled'] == 'f', 'isExpelled'] = 0\n",
    "test.loc[test['isExpelled'] == 't', 'isExpelled'] = 1\n",
    "test['isExpelled'] = test['isExpelled'].astype(int)"
   ]
  },
  {
   "cell_type": "code",
   "execution_count": 133,
   "metadata": {},
   "outputs": [],
   "source": [
    "train.loc[train['isFailed'] == 'f', 'isFailed'] = 0\n",
    "train.loc[train['isFailed'] == 't', 'isFailed'] = 1\n",
    "train['isFailed'] = train['isFailed'].astype(int)"
   ]
  },
  {
   "cell_type": "code",
   "execution_count": 134,
   "metadata": {},
   "outputs": [],
   "source": [
    "test.loc[test['isFailed'] == 'f', 'isFailed'] = 0\n",
    "test.loc[test['isFailed'] == 't', 'isFailed'] = 1\n",
    "test['isFailed'] = test['isFailed'].astype(int)"
   ]
  },
  {
   "cell_type": "code",
   "execution_count": 135,
   "metadata": {},
   "outputs": [],
   "source": [
    "train.loc[train['repository'].notnull(), 'repository'] = 1\n",
    "train['repository'] = train['repository'].fillna(0)"
   ]
  },
  {
   "cell_type": "code",
   "execution_count": 136,
   "metadata": {},
   "outputs": [],
   "source": [
    "test.loc[test['repository'].notnull(), 'repository'] = 1\n",
    "test['repository'] = test['repository'].fillna(0)"
   ]
  },
  {
   "cell_type": "code",
   "execution_count": 137,
   "metadata": {},
   "outputs": [],
   "source": [
    "train['repository'] = train['repository'].fillna(0)"
   ]
  },
  {
   "cell_type": "code",
   "execution_count": 138,
   "metadata": {},
   "outputs": [],
   "source": [
    "train.loc[train['mentorId'].notnull(), 'mentorId'] = 1\n",
    "train['mentorId'] = train['mentorId'].fillna(0)"
   ]
  },
  {
   "cell_type": "code",
   "execution_count": 139,
   "metadata": {},
   "outputs": [],
   "source": [
    "test.loc[test['mentorId'].notnull(), 'mentorId'] = 1\n",
    "test['mentorId'] = test['mentorId'].fillna(0)"
   ]
  },
  {
   "cell_type": "code",
   "execution_count": 140,
   "metadata": {},
   "outputs": [],
   "source": [
    "train.loc[train['repositoryLastActivityDate'].notnull(), 'repositoryLastActivityDate'] = 1\n",
    "train['repositoryLastActivityDate'] = train['repositoryLastActivityDate'].fillna(0)"
   ]
  },
  {
   "cell_type": "code",
   "execution_count": 141,
   "metadata": {},
   "outputs": [],
   "source": [
    "test.loc[test['repositoryLastActivityDate'].notnull(), 'repositoryLastActivityDate'] = 1\n",
    "test['repositoryLastActivityDate'] = test['repositoryLastActivityDate'].fillna(0)"
   ]
  },
  {
   "cell_type": "code",
   "execution_count": 142,
   "metadata": {},
   "outputs": [],
   "source": [
    "train.loc[train['educationHistory'] != '[]', 'educationHistory'] = 1\n",
    "train.loc[train['educationHistory'] == '[]', 'educationHistory'] = 0\n",
    "train['educationHistory'] = train['educationHistory'].astype(int)"
   ]
  },
  {
   "cell_type": "code",
   "execution_count": 143,
   "metadata": {},
   "outputs": [],
   "source": [
    "test.loc[test['educationHistory'] != '[]', 'educationHistory'] = 1\n",
    "test.loc[test['educationHistory'] == '[]', 'educationHistory'] = 0\n",
    "test['educationHistory'] = test['educationHistory'].astype(int)"
   ]
  },
  {
   "cell_type": "code",
   "execution_count": 144,
   "metadata": {},
   "outputs": [],
   "source": [
    "df_train_user_count = pd.DataFrame(train.groupby(['userId'])['userId']\\\n",
    "                  .count())\\\n",
    "                  .rename(columns={'userId':'user_count'}).reset_index()"
   ]
  },
  {
   "cell_type": "code",
   "execution_count": 145,
   "metadata": {},
   "outputs": [],
   "source": [
    "df_test_user_count = pd.DataFrame(test.groupby(['userId'])['userId']\\\n",
    "                  .count())\\\n",
    "                  .rename(columns={'userId':'user_count'}).reset_index()"
   ]
  },
  {
   "cell_type": "code",
   "execution_count": 146,
   "metadata": {},
   "outputs": [],
   "source": [
    "train = pd.merge(train,df_train_user_count, on=['userId'])\n",
    "test = pd.merge(test,df_test_user_count, on=['userId'])"
   ]
  },
  {
   "cell_type": "code",
   "execution_count": 147,
   "metadata": {},
   "outputs": [],
   "source": [
    "train.loc[train['user_count'] <= 2, 'user_count'] = 0\n",
    "train.loc[train['user_count'] > 2, 'user_count'] = 1"
   ]
  },
  {
   "cell_type": "code",
   "execution_count": 148,
   "metadata": {},
   "outputs": [],
   "source": [
    "test.loc[test['user_count'] <= 2, 'user_count'] = 0\n",
    "test.loc[test['user_count'] > 2, 'user_count'] = 1"
   ]
  },
  {
   "cell_type": "code",
   "execution_count": 149,
   "metadata": {},
   "outputs": [],
   "source": [
    "a = train['englishLevel'].unique().tolist()\n",
    "b = test['englishLevel'].unique().tolist()"
   ]
  },
  {
   "cell_type": "code",
   "execution_count": 150,
   "metadata": {},
   "outputs": [
    {
     "data": {
      "text/plain": [
       "{'3/5',\n",
       " 'A+',\n",
       " 'A-2',\n",
       " 'A0',\n",
       " 'A1',\n",
       " 'A1 (Elementary)',\n",
       " 'A1 Beginner',\n",
       " 'A1 базовый',\n",
       " 'A1+',\n",
       " 'A1-A2',\n",
       " 'A2',\n",
       " 'A2 (pre-intermediate)',\n",
       " 'A2 - B1',\n",
       " 'A2 - Pre-Intermediate',\n",
       " 'A2+',\n",
       " 'A2+ (Streemline certificate 27.12.2019)',\n",
       " 'A2+ - B1',\n",
       " 'A2- B1',\n",
       " 'A2-B1',\n",
       " 'A2/B1',\n",
       " 'Advanced',\n",
       " 'Advanced ',\n",
       " 'B1',\n",
       " 'B1 (Средний)',\n",
       " 'B1+',\n",
       " 'B1-B2',\n",
       " 'B1~B2',\n",
       " 'B2',\n",
       " 'B2 - Upper Intermediate',\n",
       " 'B2+',\n",
       " 'B2-C1',\n",
       " 'B2-С1',\n",
       " 'Beginner',\n",
       " 'C1',\n",
       " 'C1 (IELTS Academic)',\n",
       " 'C1/IELTS 7.0',\n",
       " 'Elementary',\n",
       " 'Elementary English (A2)',\n",
       " 'Good',\n",
       " 'High Proficiency',\n",
       " 'High-intermedite',\n",
       " 'IELTS 5.5 / B2',\n",
       " 'Intermediate',\n",
       " 'Intermediate ',\n",
       " 'Intermediate https://englex.ru/your-level/placement/?answer_id=2614678&hidesend=1',\n",
       " 'Intermediate(B1-2)',\n",
       " 'Intermediate+',\n",
       " 'Intermidiate',\n",
       " 'Native',\n",
       " 'PRE-Intermediate',\n",
       " 'Pre intermediate',\n",
       " 'Pre-Intermediate',\n",
       " 'Pre-Intermediate ',\n",
       " 'Pre-intermediate',\n",
       " 'Pre-intermediate (CEFR A2)',\n",
       " 'Proficient',\n",
       " 'Upper Intermediate ',\n",
       " 'a0',\n",
       " 'a1',\n",
       " 'a1+',\n",
       " 'a2',\n",
       " 'a2+',\n",
       " 'advanced',\n",
       " 'b1',\n",
       " 'b1+',\n",
       " 'b1-b2',\n",
       " 'b2',\n",
       " 'b2+',\n",
       " 'b2-c1',\n",
       " 'beginer',\n",
       " 'c1',\n",
       " 'c1+',\n",
       " 'c2',\n",
       " 'easy',\n",
       " 'elementary',\n",
       " 'intermediate',\n",
       " 'intermediate ',\n",
       " 'intermediate A2',\n",
       " 'intermediate(B1)',\n",
       " nan,\n",
       " 'natalya.sadov@gmail.com',\n",
       " 'pre intermediate',\n",
       " 'pre-intermedia',\n",
       " 'pre-intermediate',\n",
       " 'pre-intermediate a2',\n",
       " 'up-intermediate',\n",
       " 'upper intermediate B1-B2',\n",
       " 'upper-intermediate',\n",
       " 'zero',\n",
       " 'А1',\n",
       " 'А2',\n",
       " 'А2+',\n",
       " 'Базовый',\n",
       " 'В1',\n",
       " 'З',\n",
       " 'Начинающий ',\n",
       " 'С1',\n",
       " 'на уровне чтения ',\n",
       " 'средний'}"
      ]
     },
     "execution_count": 150,
     "metadata": {},
     "output_type": "execute_result"
    }
   ],
   "source": [
    "c = set(a+b)\n",
    "c"
   ]
  },
  {
   "cell_type": "code",
   "execution_count": 151,
   "metadata": {},
   "outputs": [],
   "source": [
    "train_test_data = [train, test]"
   ]
  },
  {
   "cell_type": "code",
   "execution_count": 152,
   "metadata": {},
   "outputs": [],
   "source": [
    "for data in train_test_data:\n",
    "    data['englishLevel'] = data['englishLevel'].fillna('Z')\n",
    "    data['englishLevel'] = data['englishLevel'].replace(['natalya.sadov@gmail.com',\n",
    "                                                         'zero',\n",
    "                                                         'З',\n",
    "                                                        ], 'Z')\n",
    "    data['englishLevel'] = data['englishLevel'].replace(['A+', \n",
    "                                                         'A1 (Elementary)',\n",
    "                                                         'A1 Beginner',\n",
    "                                                         'A1 базовый',\n",
    "                                                         'A1+',\n",
    "                                                         'Beginner',\n",
    "                                                         'Elementary',\n",
    "                                                         'a0',\n",
    "                                                         'a1',\n",
    "                                                         'a1+',\n",
    "                                                         'beginer',\n",
    "                                                         'easy',\n",
    "                                                         'elementary',\n",
    "                                                         'А1',\n",
    "                                                         'Базовый',\n",
    "                                                         'Начинающий ',\n",
    "                                                         'на уровне чтения ',\n",
    "                                                         'A0',\n",
    "                                                        ], 'A1')\n",
    "    data['englishLevel'] = data['englishLevel'].replace(['A-2',\n",
    "                                                         'A1-A2',\n",
    "                                                         'A2 (pre-intermediate)',\n",
    "                                                         'A2 - Pre-Intermediate',\n",
    "                                                         'A2+',\n",
    "                                                         'A2+ (Streemline certificate 27.12.2019)',\n",
    "                                                         'A2+ - B1',\n",
    "                                                         'Elementary English (A2)',\n",
    "                                                         'PRE-Intermediate',\n",
    "                                                         'Pre intermediate',\n",
    "                                                         'Pre-Intermediate',\n",
    "                                                         'Pre-Intermediate ',\n",
    "                                                         'Pre-intermediate',\n",
    "                                                         'Pre-intermediate (CEFR A2)',\n",
    "                                                         'a2',\n",
    "                                                         'a2+',\n",
    "                                                         'intermediate A2',\n",
    "                                                         'pre intermediate',\n",
    "                                                         'pre-intermedia',\n",
    "                                                         'pre-intermediate',\n",
    "                                                         'pre-intermediate a2',\n",
    "                                                         'А2',\n",
    "                                                         'А2+',\n",
    "                                                        ], 'A2')\n",
    "    data['englishLevel'] = data['englishLevel'].replace(['3/5',\n",
    "                                                         'A2 - B1',\n",
    "                                                         'A2- B1',\n",
    "                                                         'A2-B1',\n",
    "                                                         'A2/B1',\n",
    "                                                         'B1 (Средний)',\n",
    "                                                         'B1+',\n",
    "                                                         'Good',\n",
    "                                                         'Intermediate',\n",
    "                                                         'Intermediate ',\n",
    "                                                         'Intermediate https://englex.ru/your-level/placement/?answer_id=2614678&hidesend=1',\n",
    "                                                         'Intermediate(B1-2)',\n",
    "                                                         'Intermediate+',\n",
    "                                                         'Intermidiate',\n",
    "                                                         'b1',\n",
    "                                                         'b1+',\n",
    "                                                         'intermediate',\n",
    "                                                         'intermediate ',\n",
    "                                                         'intermediate(B1)',\n",
    "                                                         'В1',\n",
    "                                                         'средний',\n",
    "                                                        ], 'B1')\n",
    "    data['englishLevel'] = data['englishLevel'].replace(['B1-B2',\n",
    "                                                         'B1~B2',\n",
    "                                                         'B2 - Upper Intermediate',\n",
    "                                                         'B2+',\n",
    "                                                         'High-intermedite',\n",
    "                                                         'IELTS 5.5 / B2',\n",
    "                                                         'Upper Intermediate ',\n",
    "                                                         'b1-b2',\n",
    "                                                         'b2',\n",
    "                                                         'b2+',\n",
    "                                                         'up-intermediate',\n",
    "                                                         'upper intermediate B1-B2',\n",
    "                                                         'upper-intermediate',\n",
    "                                                        ],\n",
    "                                                        'B2')\n",
    "    data['englishLevel'] = data['englishLevel'].replace(['Advanced',\n",
    "                                                         'Advanced ',\n",
    "                                                         'B2-C1',\n",
    "                                                         'B2-С1',\n",
    "                                                         'C1 (IELTS Academic)',\n",
    "                                                         'C1/IELTS 7.0',\n",
    "                                                         'advanced',\n",
    "                                                         'b2-c1',\n",
    "                                                         'c1',\n",
    "                                                         'c1+',\n",
    "                                                         'С1',\n",
    "                                                        ], 'C1')\n",
    "    data['englishLevel'] = data['englishLevel'].replace(['High Proficiency',\n",
    "                                                         'Native',\n",
    "                                                         'Proficient',\n",
    "                                                         'c2',\n",
    "                                                        ], 'C2')"
   ]
  },
  {
   "cell_type": "code",
   "execution_count": 153,
   "metadata": {},
   "outputs": [
    {
     "data": {
      "text/plain": [
       "array(['Z', 'B1', 'A2', 'A1', 'B2', 'C1', 'C2'], dtype=object)"
      ]
     },
     "execution_count": 153,
     "metadata": {},
     "output_type": "execute_result"
    }
   ],
   "source": [
    "train['englishLevel'].unique()"
   ]
  },
  {
   "cell_type": "code",
   "execution_count": 154,
   "metadata": {},
   "outputs": [
    {
     "data": {
      "text/plain": [
       "array(['Z', 'A2', 'A1', 'B1', 'B2', 'C1', 'C2'], dtype=object)"
      ]
     },
     "execution_count": 154,
     "metadata": {},
     "output_type": "execute_result"
    }
   ],
   "source": [
    "test['englishLevel'].unique()"
   ]
  },
  {
   "cell_type": "code",
   "execution_count": 155,
   "metadata": {},
   "outputs": [
    {
     "data": {
      "text/html": [
       "<div>\n",
       "<style scoped>\n",
       "    .dataframe tbody tr th:only-of-type {\n",
       "        vertical-align: middle;\n",
       "    }\n",
       "\n",
       "    .dataframe tbody tr th {\n",
       "        vertical-align: top;\n",
       "    }\n",
       "\n",
       "    .dataframe thead th {\n",
       "        text-align: right;\n",
       "    }\n",
       "</style>\n",
       "<table border=\"1\" class=\"dataframe\">\n",
       "  <thead>\n",
       "    <tr style=\"text-align: right;\">\n",
       "      <th>isTopPerformer</th>\n",
       "      <th>False</th>\n",
       "      <th>True</th>\n",
       "    </tr>\n",
       "    <tr>\n",
       "      <th>englishLevel</th>\n",
       "      <th></th>\n",
       "      <th></th>\n",
       "    </tr>\n",
       "  </thead>\n",
       "  <tbody>\n",
       "    <tr>\n",
       "      <th>A1</th>\n",
       "      <td>985</td>\n",
       "      <td>290</td>\n",
       "    </tr>\n",
       "    <tr>\n",
       "      <th>A2</th>\n",
       "      <td>1274</td>\n",
       "      <td>709</td>\n",
       "    </tr>\n",
       "    <tr>\n",
       "      <th>B1</th>\n",
       "      <td>898</td>\n",
       "      <td>494</td>\n",
       "    </tr>\n",
       "    <tr>\n",
       "      <th>B2</th>\n",
       "      <td>381</td>\n",
       "      <td>203</td>\n",
       "    </tr>\n",
       "    <tr>\n",
       "      <th>C1</th>\n",
       "      <td>100</td>\n",
       "      <td>55</td>\n",
       "    </tr>\n",
       "    <tr>\n",
       "      <th>C2</th>\n",
       "      <td>18</td>\n",
       "      <td>3</td>\n",
       "    </tr>\n",
       "    <tr>\n",
       "      <th>Z</th>\n",
       "      <td>4236</td>\n",
       "      <td>825</td>\n",
       "    </tr>\n",
       "  </tbody>\n",
       "</table>\n",
       "</div>"
      ],
      "text/plain": [
       "isTopPerformer  False  True \n",
       "englishLevel                \n",
       "A1                985    290\n",
       "A2               1274    709\n",
       "B1                898    494\n",
       "B2                381    203\n",
       "C1                100     55\n",
       "C2                 18      3\n",
       "Z                4236    825"
      ]
     },
     "execution_count": 155,
     "metadata": {},
     "output_type": "execute_result"
    }
   ],
   "source": [
    "pd.crosstab(train['englishLevel'], train['isTopPerformer'])"
   ]
  },
  {
   "cell_type": "code",
   "execution_count": 156,
   "metadata": {},
   "outputs": [],
   "source": [
    "#level = {'Z':0, 'A1':1, 'A2':2, 'B1':3, 'B2':4, 'C1':5, 'C2':6}\n",
    "level = {'Z':0, 'A1':0, 'A2':0, 'B1':1, 'B2':1, 'C1':1, 'C2':0}\n",
    "#level = {'Z':0, 'A1':0, 'A2':1, 'B1':1, 'B2':1, 'C1':1, 'C2':0}\n",
    "for data in train_test_data:\n",
    "    data['englishLevel'] = data['englishLevel'].map(level).astype(int)"
   ]
  },
  {
   "cell_type": "code",
   "execution_count": 157,
   "metadata": {},
   "outputs": [
    {
     "data": {
      "text/plain": [
       "array([0, 1])"
      ]
     },
     "execution_count": 157,
     "metadata": {},
     "output_type": "execute_result"
    }
   ],
   "source": [
    "train['englishLevel'].unique()"
   ]
  },
  {
   "cell_type": "code",
   "execution_count": 158,
   "metadata": {},
   "outputs": [
    {
     "data": {
      "text/plain": [
       "array([0, 1])"
      ]
     },
     "execution_count": 158,
     "metadata": {},
     "output_type": "execute_result"
    }
   ],
   "source": [
    "test['englishLevel'].unique()"
   ]
  },
  {
   "cell_type": "code",
   "execution_count": 159,
   "metadata": {},
   "outputs": [],
   "source": [
    "train = train.query('courseId in [1,2,9,11,13,16,17,18,19,20,21]')\n",
    "#train = train.query('courseId in [1,2,9,11,13,16,17,18,19,21]')"
   ]
  },
  {
   "cell_type": "code",
   "execution_count": 160,
   "metadata": {},
   "outputs": [],
   "source": [
    "course = pd.read_csv('data/course.csv')\n",
    "#course_temp = course[['courseId', 'primarySkillId', 'alias', 'completed']]\n",
    "course_temp = course[['courseId', 'primarySkillId', 'alias', 'completed', 'inviteOnly']]"
   ]
  },
  {
   "cell_type": "code",
   "execution_count": 161,
   "metadata": {},
   "outputs": [
    {
     "name": "stderr",
     "output_type": "stream",
     "text": [
      "/Users/andreishchahlou/opt/anaconda3/lib/python3.7/site-packages/pandas/core/indexing.py:965: SettingWithCopyWarning: \n",
      "A value is trying to be set on a copy of a slice from a DataFrame.\n",
      "Try using .loc[row_indexer,col_indexer] = value instead\n",
      "\n",
      "See the caveats in the documentation: https://pandas.pydata.org/pandas-docs/stable/user_guide/indexing.html#returning-a-view-versus-a-copy\n",
      "  self.obj[item] = s\n",
      "/Users/andreishchahlou/opt/anaconda3/lib/python3.7/site-packages/ipykernel_launcher.py:3: SettingWithCopyWarning: \n",
      "A value is trying to be set on a copy of a slice from a DataFrame.\n",
      "Try using .loc[row_indexer,col_indexer] = value instead\n",
      "\n",
      "See the caveats in the documentation: https://pandas.pydata.org/pandas-docs/stable/user_guide/indexing.html#returning-a-view-versus-a-copy\n",
      "  This is separate from the ipykernel package so we can avoid doing imports until\n"
     ]
    }
   ],
   "source": [
    "course_temp.loc[course_temp['inviteOnly'] == 'f', 'inviteOnly'] = 0\n",
    "course_temp.loc[course_temp['inviteOnly'] == 't', 'inviteOnly'] = 1\n",
    "course_temp['inviteOnly'] = course_temp['inviteOnly'].astype(int)"
   ]
  },
  {
   "cell_type": "code",
   "execution_count": 162,
   "metadata": {},
   "outputs": [],
   "source": [
    "for i in ['test-course', 'ios-2020', 'android-2020', 'js-fundamentals']:\n",
    "    course_temp.loc[course_temp['alias'] == i, 'alias'] = i+'-q'"
   ]
  },
  {
   "cell_type": "code",
   "execution_count": 163,
   "metadata": {},
   "outputs": [],
   "source": [
    "course_temp.loc[course_temp['alias'] == 'rs-uz-2019-q3', 'alias'] = 'rs-2019-q3'\n",
    "course_temp.loc[course_temp['alias'] == 'rs-st-2019-q1', 'alias'] = 'rs-2019-q1'\n",
    "course_temp.loc[course_temp['alias'] == 'rss-pl-2020-q1', 'alias'] = 'rss-2020-q1'"
   ]
  },
  {
   "cell_type": "code",
   "execution_count": 164,
   "metadata": {},
   "outputs": [
    {
     "name": "stderr",
     "output_type": "stream",
     "text": [
      "/Users/andreishchahlou/opt/anaconda3/lib/python3.7/site-packages/ipykernel_launcher.py:1: SettingWithCopyWarning: \n",
      "A value is trying to be set on a copy of a slice from a DataFrame.\n",
      "Try using .loc[row_indexer,col_indexer] = value instead\n",
      "\n",
      "See the caveats in the documentation: https://pandas.pydata.org/pandas-docs/stable/user_guide/indexing.html#returning-a-view-versus-a-copy\n",
      "  \"\"\"Entry point for launching an IPython kernel.\n",
      "/Users/andreishchahlou/opt/anaconda3/lib/python3.7/site-packages/ipykernel_launcher.py:2: SettingWithCopyWarning: \n",
      "A value is trying to be set on a copy of a slice from a DataFrame.\n",
      "Try using .loc[row_indexer,col_indexer] = value instead\n",
      "\n",
      "See the caveats in the documentation: https://pandas.pydata.org/pandas-docs/stable/user_guide/indexing.html#returning-a-view-versus-a-copy\n",
      "  \n"
     ]
    }
   ],
   "source": [
    "course_temp['skill'] = course_temp['alias'].apply(lambda x: x.split('-')[0])\n",
    "course_temp['quarter'] = course_temp['alias'].apply(lambda x: x.split('-')[2])"
   ]
  },
  {
   "cell_type": "code",
   "execution_count": 165,
   "metadata": {},
   "outputs": [
    {
     "name": "stderr",
     "output_type": "stream",
     "text": [
      "/Users/andreishchahlou/opt/anaconda3/lib/python3.7/site-packages/ipykernel_launcher.py:6: SettingWithCopyWarning: \n",
      "A value is trying to be set on a copy of a slice from a DataFrame.\n",
      "Try using .loc[row_indexer,col_indexer] = value instead\n",
      "\n",
      "See the caveats in the documentation: https://pandas.pydata.org/pandas-docs/stable/user_guide/indexing.html#returning-a-view-versus-a-copy\n",
      "  \n"
     ]
    }
   ],
   "source": [
    "primSkill = {'ios-obj-c' : 0,\n",
    "             'android-kotlin': 0,\n",
    "             'nodejs': 0,\n",
    "             'javascript': 1\n",
    "            }\n",
    "course_temp['primarySkillId'] = course_temp['primarySkillId'].map(primSkill).astype(int)"
   ]
  },
  {
   "cell_type": "code",
   "execution_count": 166,
   "metadata": {},
   "outputs": [
    {
     "name": "stderr",
     "output_type": "stream",
     "text": [
      "/Users/andreishchahlou/opt/anaconda3/lib/python3.7/site-packages/ipykernel_launcher.py:12: SettingWithCopyWarning: \n",
      "A value is trying to be set on a copy of a slice from a DataFrame.\n",
      "Try using .loc[row_indexer,col_indexer] = value instead\n",
      "\n",
      "See the caveats in the documentation: https://pandas.pydata.org/pandas-docs/stable/user_guide/indexing.html#returning-a-view-versus-a-copy\n",
      "  if sys.path[0] == '':\n"
     ]
    }
   ],
   "source": [
    "skill_repl = {'react': '0',\n",
    "              'test': '1',\n",
    "              'ios': '0',\n",
    "              'rs': '1',\n",
    "              'android': '0',\n",
    "              'st': '1',\n",
    "              'angular': '0',\n",
    "              'js': '1',\n",
    "              'rss': '1',\n",
    "              'nodejs': '0',\n",
    "             }\n",
    "course_temp['skill'] = course_temp['skill'].map(skill_repl).astype(int)"
   ]
  },
  {
   "cell_type": "code",
   "execution_count": 167,
   "metadata": {},
   "outputs": [
    {
     "name": "stderr",
     "output_type": "stream",
     "text": [
      "/Users/andreishchahlou/opt/anaconda3/lib/python3.7/site-packages/ipykernel_launcher.py:7: SettingWithCopyWarning: \n",
      "A value is trying to be set on a copy of a slice from a DataFrame.\n",
      "Try using .loc[row_indexer,col_indexer] = value instead\n",
      "\n",
      "See the caveats in the documentation: https://pandas.pydata.org/pandas-docs/stable/user_guide/indexing.html#returning-a-view-versus-a-copy\n",
      "  import sys\n"
     ]
    }
   ],
   "source": [
    "quarter_repl = {'q': 0,\n",
    "                'Q1': 1,\n",
    "                'q1': 1,\n",
    "                'Q3': 2,\n",
    "                'q3': 2\n",
    "               }\n",
    "course_temp['quarter'] = course_temp['quarter'].map(quarter_repl).astype(int)"
   ]
  },
  {
   "cell_type": "code",
   "execution_count": 168,
   "metadata": {},
   "outputs": [
    {
     "name": "stderr",
     "output_type": "stream",
     "text": [
      "/Users/andreishchahlou/opt/anaconda3/lib/python3.7/site-packages/ipykernel_launcher.py:3: SettingWithCopyWarning: \n",
      "A value is trying to be set on a copy of a slice from a DataFrame.\n",
      "Try using .loc[row_indexer,col_indexer] = value instead\n",
      "\n",
      "See the caveats in the documentation: https://pandas.pydata.org/pandas-docs/stable/user_guide/indexing.html#returning-a-view-versus-a-copy\n",
      "  This is separate from the ipykernel package so we can avoid doing imports until\n"
     ]
    }
   ],
   "source": [
    "course_temp.loc[course_temp['completed'] == 'f', 'completed'] = 0\n",
    "course_temp.loc[course_temp['completed'] == 't', 'completed'] = 1\n",
    "course_temp['completed'] = course_temp['completed'].astype(int)"
   ]
  },
  {
   "cell_type": "code",
   "execution_count": 169,
   "metadata": {},
   "outputs": [],
   "source": [
    "#train.head(50)"
   ]
  },
  {
   "cell_type": "code",
   "execution_count": 170,
   "metadata": {},
   "outputs": [],
   "source": [
    "train = pd.merge(train,course_temp.drop(['alias'], axis=1), on=['courseId'])\n",
    "test = pd.merge(test,course_temp.drop(['alias'], axis=1), on=['courseId'])"
   ]
  },
  {
   "cell_type": "code",
   "execution_count": 171,
   "metadata": {},
   "outputs": [
    {
     "data": {
      "text/plain": [
       "((10143, 29), (2991, 28))"
      ]
     },
     "execution_count": 171,
     "metadata": {},
     "output_type": "execute_result"
    }
   ],
   "source": [
    "train.shape, test.shape"
   ]
  },
  {
   "cell_type": "code",
   "execution_count": 172,
   "metadata": {},
   "outputs": [],
   "source": [
    "train['endDate'] = train['endDate'].fillna('empty')\n",
    "test['endDate'] = test['endDate'].fillna('empty')"
   ]
  },
  {
   "cell_type": "code",
   "execution_count": 173,
   "metadata": {},
   "outputs": [
    {
     "name": "stderr",
     "output_type": "stream",
     "text": [
      "/Users/andreishchahlou/opt/anaconda3/lib/python3.7/site-packages/pandas/core/indexing.py:670: SettingWithCopyWarning: \n",
      "A value is trying to be set on a copy of a slice from a DataFrame\n",
      "\n",
      "See the caveats in the documentation: https://pandas.pydata.org/pandas-docs/stable/user_guide/indexing.html#returning-a-view-versus-a-copy\n",
      "  self._setitem_with_indexer(indexer, value)\n"
     ]
    }
   ],
   "source": [
    "for i in range(train.shape[0]):\n",
    "    if (train.iloc[i]['endDate'] == 'empty') or (train.iloc[i]['endDate'] == '1970-01-01 00:00:00+00'):\n",
    "        train['endDate'].iloc[i] = course['courseEndDate'][course['courseId'] == train['courseId'].iloc[i]].item()"
   ]
  },
  {
   "cell_type": "code",
   "execution_count": 174,
   "metadata": {},
   "outputs": [],
   "source": [
    "for i in range(test.shape[0]):\n",
    "    if (test.iloc[i]['endDate'] == 'empty') or (test.iloc[i]['endDate'] == '1970-01-01 00:00:00+00'):\n",
    "        test['endDate'].iloc[i] = course['courseEndDate'][course['courseId'] == test['courseId'].iloc[i]].item()"
   ]
  },
  {
   "cell_type": "code",
   "execution_count": 175,
   "metadata": {},
   "outputs": [],
   "source": [
    "train['start_dates'] = train['startDate'].apply(lambda x: pd.to_datetime(x.split(' ')[0], format='%Y-%m-%d'))\n",
    "train['end_dates'] = train['endDate'].apply(lambda x: pd.to_datetime(x.split(' ')[0], format='%Y-%m-%d'))"
   ]
  },
  {
   "cell_type": "code",
   "execution_count": 176,
   "metadata": {},
   "outputs": [],
   "source": [
    "train['duration'] = (train['end_dates'] - train['start_dates']).dt.days.astype(int)\n",
    "train.loc[train['duration'] <= 30, 'duration'] = 0\n",
    "train.loc[(train['duration'] > 30) & (train['duration'] >= 60), 'duration'] = 1\n",
    "train.loc[(train['duration'] > 60) & (train['duration'] < 90), 'duration'] = 2\n",
    "train.loc[train['duration'] > 90, 'duration'] = 3\n",
    "train['duration'] = train['duration'].astype(int)"
   ]
  },
  {
   "cell_type": "code",
   "execution_count": 177,
   "metadata": {},
   "outputs": [],
   "source": [
    "test['start_dates'] = test['startDate'].apply(lambda x: pd.to_datetime(x.split(' ')[0], format='%Y-%m-%d'))\n",
    "test['end_dates'] = test['endDate'].apply(lambda x: pd.to_datetime(x.split(' ')[0], format='%Y-%m-%d'))"
   ]
  },
  {
   "cell_type": "code",
   "execution_count": 178,
   "metadata": {},
   "outputs": [],
   "source": [
    "test['duration'] = (test['end_dates'] - test['start_dates']).dt.days.astype(int)\n",
    "test.loc[test['duration'] <= 30, 'duration'] = 0\n",
    "test.loc[(test['duration'] > 30) & (test['duration'] <= 60), 'duration'] = 1\n",
    "test.loc[(test['duration'] > 60) & (test['duration'] <= 90), 'duration'] = 2\n",
    "test.loc[test['duration'] > 90, 'duration'] = 3\n",
    "test['duration'] = test['duration'].astype(int)"
   ]
  },
  {
   "cell_type": "code",
   "execution_count": 179,
   "metadata": {},
   "outputs": [],
   "source": [
    "task = pd.read_csv('data/task.csv')"
   ]
  },
  {
   "cell_type": "code",
   "execution_count": 180,
   "metadata": {},
   "outputs": [],
   "source": [
    "task_results = pd.read_csv('data/task_results.csv')"
   ]
  },
  {
   "cell_type": "code",
   "execution_count": 181,
   "metadata": {},
   "outputs": [],
   "source": [
    "task_temp = task[['courseId', 'courseTaskId', 'maxScore']]"
   ]
  },
  {
   "cell_type": "code",
   "execution_count": 182,
   "metadata": {},
   "outputs": [],
   "source": [
    "for i in [1, 2, 4, 5, 6, 9, 10]:\n",
    "    for j in task_temp[task_temp['courseId'] == i]['courseTaskId'].tolist():\n",
    "        if np.isnan(task_temp['maxScore'][(task_temp['courseId'] == i) & (task_temp['courseTaskId'] == j)].item()):\n",
    "            task_temp.loc[(task_temp['courseId'] == i) & (task_temp['courseTaskId'] == j), 'maxScore'] = \\\n",
    "                np.max(task_results[task_results['courseTaskId'] == j]['score'].unique())"
   ]
  },
  {
   "cell_type": "code",
   "execution_count": 183,
   "metadata": {},
   "outputs": [],
   "source": [
    "task_temp.loc[(task_temp['courseId'] == 11) & (task_temp['courseTaskId'] == 347), 'maxScore'] = 8\n",
    "task_temp.loc[(task_temp['courseId'] == 11) & (task_temp['courseTaskId'] == 343), 'maxScore'] = 10\n",
    "task_temp.loc[(task_temp['courseId'] == 14) & (task_temp['courseTaskId'] == 334), 'maxScore'] = 30\n",
    "task_temp.loc[(task_temp['courseId'] == 14) & (task_temp['courseTaskId'] == 364), 'maxScore'] = 35\n",
    "task_temp.loc[(task_temp['courseId'] == 14) & (task_temp['courseTaskId'] == 365), 'maxScore'] = 30\n",
    "task_temp.loc[(task_temp['courseId'] == 14) & (task_temp['courseTaskId'] == 352), 'maxScore'] = 10\n",
    "task_temp.loc[(task_temp['courseId'] == 14) & (task_temp['courseTaskId'] == 362), 'maxScore'] = 10\n",
    "task_temp.loc[(task_temp['courseId'] == 14) & (task_temp['courseTaskId'] == 324), 'maxScore'] = 5\n",
    "task_temp.loc[(task_temp['courseId'] == 16) & (task_temp['courseTaskId'] == 393), 'maxScore'] = 280\n",
    "task_temp.loc[(task_temp['courseId'] == 19) & (task_temp['courseTaskId'] == 431), 'maxScore'] = 100"
   ]
  },
  {
   "cell_type": "code",
   "execution_count": 184,
   "metadata": {},
   "outputs": [
    {
     "name": "stderr",
     "output_type": "stream",
     "text": [
      "/Users/andreishchahlou/opt/anaconda3/lib/python3.7/site-packages/ipykernel_launcher.py:1: SettingWithCopyWarning: \n",
      "A value is trying to be set on a copy of a slice from a DataFrame.\n",
      "Try using .loc[row_indexer,col_indexer] = value instead\n",
      "\n",
      "See the caveats in the documentation: https://pandas.pydata.org/pandas-docs/stable/user_guide/indexing.html#returning-a-view-versus-a-copy\n",
      "  \"\"\"Entry point for launching an IPython kernel.\n"
     ]
    }
   ],
   "source": [
    "task_temp['minScore'] = [0 for i in range(task_temp.shape[0])]"
   ]
  },
  {
   "cell_type": "code",
   "execution_count": 185,
   "metadata": {},
   "outputs": [],
   "source": [
    "for i in [1, 2, 4, 5, 6, 9, 10, 11, 12, 13, 14, 16, 17, 18, 19, 20, 21, 23, 27, 28, 29]:\n",
    "    for j in task_temp[task_temp['courseId'] == i]['courseTaskId'].tolist():\n",
    "        task_temp.loc[(task_temp['courseId'] == i) & (task_temp['courseTaskId'] == j), 'minScore'] = \\\n",
    "            np.min(task_results[task_results['courseTaskId'] == j]['score'].unique())"
   ]
  },
  {
   "cell_type": "code",
   "execution_count": 186,
   "metadata": {},
   "outputs": [],
   "source": [
    "task_temp_sum = task_temp.groupby(['courseId']).agg({'maxScore': 'sum'}).reset_index()"
   ]
  },
  {
   "cell_type": "code",
   "execution_count": 187,
   "metadata": {},
   "outputs": [],
   "source": [
    "task_temp_sum['len_tasks'] = task_temp.groupby(['courseId']).agg({'courseTaskId': 'count'})['courseTaskId'].tolist()"
   ]
  },
  {
   "cell_type": "code",
   "execution_count": 188,
   "metadata": {},
   "outputs": [],
   "source": [
    "task_temp_sum['minScore'] = task_temp.groupby(['courseId']).agg({'minScore': 'sum'})['minScore'].tolist()"
   ]
  },
  {
   "cell_type": "code",
   "execution_count": 189,
   "metadata": {},
   "outputs": [],
   "source": [
    "train = pd.merge(train,task_temp_sum[['courseId', 'maxScore', 'len_tasks']], on=['courseId'])\n",
    "test = pd.merge(test,task_temp_sum[['courseId', 'maxScore', 'len_tasks']], on=['courseId'])"
   ]
  },
  {
   "cell_type": "code",
   "execution_count": 190,
   "metadata": {},
   "outputs": [
    {
     "data": {
      "text/plain": [
       "((10143, 34), (2991, 33))"
      ]
     },
     "execution_count": 190,
     "metadata": {},
     "output_type": "execute_result"
    }
   ],
   "source": [
    "train.shape, test.shape"
   ]
  },
  {
   "cell_type": "code",
   "execution_count": 191,
   "metadata": {},
   "outputs": [],
   "source": [
    "task_results_temp = task_results[['studentId', 'courseTaskId', 'score']]"
   ]
  },
  {
   "cell_type": "code",
   "execution_count": 192,
   "metadata": {},
   "outputs": [
    {
     "data": {
      "text/plain": [
       "(94262, 10)"
      ]
     },
     "execution_count": 192,
     "metadata": {},
     "output_type": "execute_result"
    }
   ],
   "source": [
    "task_results.shape"
   ]
  },
  {
   "cell_type": "code",
   "execution_count": 193,
   "metadata": {},
   "outputs": [],
   "source": [
    "task_results_temp = pd.merge(task_results_temp, task_temp[['courseTaskId', 'courseId']], on=['courseTaskId'])"
   ]
  },
  {
   "cell_type": "code",
   "execution_count": 194,
   "metadata": {},
   "outputs": [
    {
     "data": {
      "text/plain": [
       "(94262, 4)"
      ]
     },
     "execution_count": 194,
     "metadata": {},
     "output_type": "execute_result"
    }
   ],
   "source": [
    "task_results_temp.shape"
   ]
  },
  {
   "cell_type": "code",
   "execution_count": 195,
   "metadata": {},
   "outputs": [
    {
     "data": {
      "text/plain": [
       "8430"
      ]
     },
     "execution_count": 195,
     "metadata": {},
     "output_type": "execute_result"
    }
   ],
   "source": [
    "task_results_temp['studentId'].nunique()"
   ]
  },
  {
   "cell_type": "code",
   "execution_count": 196,
   "metadata": {},
   "outputs": [],
   "source": [
    "task_results_temp_sum = task_results_temp.groupby(['studentId', 'courseId']).agg({'score': 'sum'}).reset_index()"
   ]
  },
  {
   "cell_type": "code",
   "execution_count": 197,
   "metadata": {},
   "outputs": [],
   "source": [
    "task_results_temp_sum['number_tasks'] = task_results_temp.groupby(['studentId', 'courseId']).agg({'courseTaskId': 'count'})['courseTaskId'].tolist()"
   ]
  },
  {
   "cell_type": "code",
   "execution_count": 198,
   "metadata": {},
   "outputs": [],
   "source": [
    "train_st = train['studentId'].unique().tolist()\n",
    "rez_st = task_results['studentId'].unique().tolist()\n",
    "train_empty = list(set(train_st) - set(rez_st))"
   ]
  },
  {
   "cell_type": "code",
   "execution_count": 199,
   "metadata": {},
   "outputs": [],
   "source": [
    "train_course_empty = []\n",
    "for i in train_empty:\n",
    "    train_course_empty.append(train.loc[train['studentId'] == i]['courseId'].item())"
   ]
  },
  {
   "cell_type": "code",
   "execution_count": 200,
   "metadata": {},
   "outputs": [],
   "source": [
    "# train_score_empty = [0 i in range(len(train_empty))]\n",
    "# train_tasks_empty = [0 for i in range(len(train_empty))]"
   ]
  },
  {
   "cell_type": "code",
   "execution_count": 201,
   "metadata": {},
   "outputs": [],
   "source": [
    "train_score_empty = [task_temp_sum['minScore'][task_temp_sum['courseId'] == train['courseId'][train['studentId'] == i].item()].item() for i in train_empty]\n",
    "train_tasks_empty = [1 for i in range(len(train_empty))]"
   ]
  },
  {
   "cell_type": "code",
   "execution_count": 202,
   "metadata": {},
   "outputs": [],
   "source": [
    "train_empty_df = pd.DataFrame({'studentId': train_empty, \n",
    "                              'courseId': train_course_empty,\n",
    "                              'score': train_score_empty,\n",
    "                              'number_tasks': train_tasks_empty\n",
    "                             })"
   ]
  },
  {
   "cell_type": "code",
   "execution_count": 203,
   "metadata": {},
   "outputs": [],
   "source": [
    "task_results_temp_sum = pd.concat([task_results_temp_sum, train_empty_df], ignore_index=True)"
   ]
  },
  {
   "cell_type": "code",
   "execution_count": 204,
   "metadata": {},
   "outputs": [],
   "source": [
    "test_st = test['studentId'].unique().tolist()\n",
    "#rez_st = task_results['studentId'].unique().tolist()\n",
    "test_empty = list(set(test_st) - set(rez_st))"
   ]
  },
  {
   "cell_type": "code",
   "execution_count": 205,
   "metadata": {},
   "outputs": [],
   "source": [
    "test_course_empty = []\n",
    "for i in test_empty:\n",
    "    test_course_empty.append(test.loc[test['studentId'] == i]['courseId'].item())"
   ]
  },
  {
   "cell_type": "code",
   "execution_count": 206,
   "metadata": {},
   "outputs": [],
   "source": [
    "# test_score_empty = [0 for i in range(len(test_empty))]\n",
    "# test_tasks_empty = [1 for i in range(len(test_empty))]"
   ]
  },
  {
   "cell_type": "code",
   "execution_count": 207,
   "metadata": {},
   "outputs": [],
   "source": [
    "test_score_empty = [task_temp_sum['minScore'][task_temp_sum['courseId'] == test['courseId'][test['studentId'] == i].item()].item() for i in test_empty]\n",
    "test_tasks_empty = [1 for i in range(len(test_empty))]"
   ]
  },
  {
   "cell_type": "code",
   "execution_count": 208,
   "metadata": {},
   "outputs": [],
   "source": [
    "test_empty_df = pd.DataFrame({'studentId': test_empty, \n",
    "                              'courseId': test_course_empty,\n",
    "                              'score': test_score_empty,\n",
    "                              'number_tasks': test_tasks_empty\n",
    "                             })"
   ]
  },
  {
   "cell_type": "code",
   "execution_count": 209,
   "metadata": {},
   "outputs": [],
   "source": [
    "task_results_temp_sum = pd.concat([task_results_temp_sum, test_empty_df], ignore_index=True)"
   ]
  },
  {
   "cell_type": "code",
   "execution_count": 210,
   "metadata": {},
   "outputs": [
    {
     "data": {
      "text/plain": [
       "(13447, 4)"
      ]
     },
     "execution_count": 210,
     "metadata": {},
     "output_type": "execute_result"
    }
   ],
   "source": [
    "task_results_temp_sum.shape"
   ]
  },
  {
   "cell_type": "code",
   "execution_count": 211,
   "metadata": {},
   "outputs": [],
   "source": [
    "train = pd.merge(train,task_results_temp_sum, on=['studentId', 'courseId'])\n",
    "test = pd.merge(test,task_results_temp_sum, on=['studentId', 'courseId'])"
   ]
  },
  {
   "cell_type": "code",
   "execution_count": 212,
   "metadata": {},
   "outputs": [],
   "source": [
    "train['score_part'] = train['score'] / train['maxScore']\n",
    "test['score_part'] = test['score'] / test['maxScore']"
   ]
  },
  {
   "cell_type": "code",
   "execution_count": 213,
   "metadata": {},
   "outputs": [],
   "source": [
    "train['tasks_part'] = train['number_tasks'] / train['len_tasks']\n",
    "test['tasks_part'] = test['number_tasks'] / test['len_tasks']"
   ]
  },
  {
   "cell_type": "code",
   "execution_count": 214,
   "metadata": {},
   "outputs": [
    {
     "data": {
      "text/plain": [
       "((10143, 38), (2991, 37))"
      ]
     },
     "execution_count": 214,
     "metadata": {},
     "output_type": "execute_result"
    }
   ],
   "source": [
    "train.shape, test.shape"
   ]
  },
  {
   "cell_type": "code",
   "execution_count": 215,
   "metadata": {},
   "outputs": [],
   "source": [
    "train = train.sample(frac = 1)"
   ]
  },
  {
   "cell_type": "code",
   "execution_count": 216,
   "metadata": {},
   "outputs": [],
   "source": [
    "test = test.sample(frac = 1)"
   ]
  },
  {
   "cell_type": "code",
   "execution_count": 217,
   "metadata": {},
   "outputs": [
    {
     "data": {
      "text/html": [
       "<div>\n",
       "<style scoped>\n",
       "    .dataframe tbody tr th:only-of-type {\n",
       "        vertical-align: middle;\n",
       "    }\n",
       "\n",
       "    .dataframe tbody tr th {\n",
       "        vertical-align: top;\n",
       "    }\n",
       "\n",
       "    .dataframe thead th {\n",
       "        text-align: right;\n",
       "    }\n",
       "</style>\n",
       "<table border=\"1\" class=\"dataframe\">\n",
       "  <thead>\n",
       "    <tr style=\"text-align: right;\">\n",
       "      <th></th>\n",
       "      <th>studentId</th>\n",
       "      <th>createdDate</th>\n",
       "      <th>updatedDate</th>\n",
       "      <th>isExpelled</th>\n",
       "      <th>expellingReason</th>\n",
       "      <th>courseCompleted</th>\n",
       "      <th>isTopPerformer</th>\n",
       "      <th>preferedMentorGithubId</th>\n",
       "      <th>readyFullTime</th>\n",
       "      <th>courseId</th>\n",
       "      <th>userId</th>\n",
       "      <th>mentorId</th>\n",
       "      <th>cvUrl</th>\n",
       "      <th>hiredById</th>\n",
       "      <th>hiredByName</th>\n",
       "      <th>isFailed</th>\n",
       "      <th>startDate</th>\n",
       "      <th>endDate</th>\n",
       "      <th>repository</th>\n",
       "      <th>repositoryLastActivityDate</th>\n",
       "      <th>idUser</th>\n",
       "      <th>educationHistory</th>\n",
       "      <th>englishLevel</th>\n",
       "      <th>user_count</th>\n",
       "      <th>primarySkillId</th>\n",
       "      <th>completed</th>\n",
       "      <th>inviteOnly</th>\n",
       "      <th>skill</th>\n",
       "      <th>quarter</th>\n",
       "      <th>start_dates</th>\n",
       "      <th>end_dates</th>\n",
       "      <th>duration</th>\n",
       "      <th>maxScore</th>\n",
       "      <th>len_tasks</th>\n",
       "      <th>score</th>\n",
       "      <th>number_tasks</th>\n",
       "      <th>score_part</th>\n",
       "      <th>tasks_part</th>\n",
       "    </tr>\n",
       "  </thead>\n",
       "  <tbody>\n",
       "    <tr>\n",
       "      <th>9063</th>\n",
       "      <td>1906</td>\n",
       "      <td>2019-04-30 09:29:01.697887</td>\n",
       "      <td>2019-04-30 09:29:01.697887</td>\n",
       "      <td>0</td>\n",
       "      <td>NaN</td>\n",
       "      <td>f</td>\n",
       "      <td>False</td>\n",
       "      <td>NaN</td>\n",
       "      <td>NaN</td>\n",
       "      <td>2</td>\n",
       "      <td>3676</td>\n",
       "      <td>0.0</td>\n",
       "      <td>NaN</td>\n",
       "      <td>NaN</td>\n",
       "      <td>NaN</td>\n",
       "      <td>0</td>\n",
       "      <td>2018-09-01 19:47:14.081+00</td>\n",
       "      <td>2018-12-31 19:47:14.081+00</td>\n",
       "      <td>0</td>\n",
       "      <td>0</td>\n",
       "      <td>3676</td>\n",
       "      <td>0</td>\n",
       "      <td>0</td>\n",
       "      <td>0</td>\n",
       "      <td>1</td>\n",
       "      <td>1</td>\n",
       "      <td>0</td>\n",
       "      <td>1</td>\n",
       "      <td>2</td>\n",
       "      <td>2018-09-01</td>\n",
       "      <td>2018-12-31</td>\n",
       "      <td>1</td>\n",
       "      <td>1781.0</td>\n",
       "      <td>15</td>\n",
       "      <td>284</td>\n",
       "      <td>1</td>\n",
       "      <td>0.159461</td>\n",
       "      <td>0.066667</td>\n",
       "    </tr>\n",
       "    <tr>\n",
       "      <th>7028</th>\n",
       "      <td>456</td>\n",
       "      <td>2019-04-22 16:15:21.081322</td>\n",
       "      <td>2019-08-05 08:55:09.750177</td>\n",
       "      <td>0</td>\n",
       "      <td>NaN</td>\n",
       "      <td>f</td>\n",
       "      <td>True</td>\n",
       "      <td>NaN</td>\n",
       "      <td>NaN</td>\n",
       "      <td>1</td>\n",
       "      <td>828</td>\n",
       "      <td>1.0</td>\n",
       "      <td>NaN</td>\n",
       "      <td>NaN</td>\n",
       "      <td>NaN</td>\n",
       "      <td>1</td>\n",
       "      <td>2019-01-01 00:49:13.461+00</td>\n",
       "      <td>2019-08-25 00:49:13.461+00</td>\n",
       "      <td>0</td>\n",
       "      <td>0</td>\n",
       "      <td>828</td>\n",
       "      <td>1</td>\n",
       "      <td>0</td>\n",
       "      <td>1</td>\n",
       "      <td>1</td>\n",
       "      <td>1</td>\n",
       "      <td>0</td>\n",
       "      <td>1</td>\n",
       "      <td>1</td>\n",
       "      <td>2019-01-01</td>\n",
       "      <td>2019-08-25</td>\n",
       "      <td>1</td>\n",
       "      <td>2027.0</td>\n",
       "      <td>15</td>\n",
       "      <td>423</td>\n",
       "      <td>6</td>\n",
       "      <td>0.208683</td>\n",
       "      <td>0.400000</td>\n",
       "    </tr>\n",
       "    <tr>\n",
       "      <th>2777</th>\n",
       "      <td>11598</td>\n",
       "      <td>2020-02-05 12:07:23.9935</td>\n",
       "      <td>2020-02-05 12:07:23.9935</td>\n",
       "      <td>0</td>\n",
       "      <td>NaN</td>\n",
       "      <td>f</td>\n",
       "      <td>False</td>\n",
       "      <td>NaN</td>\n",
       "      <td>NaN</td>\n",
       "      <td>16</td>\n",
       "      <td>1446</td>\n",
       "      <td>0.0</td>\n",
       "      <td>NaN</td>\n",
       "      <td>NaN</td>\n",
       "      <td>NaN</td>\n",
       "      <td>0</td>\n",
       "      <td>2020-02-05 12:07:23.99+00</td>\n",
       "      <td>2020-03-18 06:12:18.391+00</td>\n",
       "      <td>0</td>\n",
       "      <td>0</td>\n",
       "      <td>1446</td>\n",
       "      <td>1</td>\n",
       "      <td>1</td>\n",
       "      <td>1</td>\n",
       "      <td>1</td>\n",
       "      <td>1</td>\n",
       "      <td>1</td>\n",
       "      <td>0</td>\n",
       "      <td>1</td>\n",
       "      <td>2020-02-05</td>\n",
       "      <td>2020-03-18</td>\n",
       "      <td>42</td>\n",
       "      <td>1040.0</td>\n",
       "      <td>4</td>\n",
       "      <td>190</td>\n",
       "      <td>1</td>\n",
       "      <td>0.182692</td>\n",
       "      <td>0.250000</td>\n",
       "    </tr>\n",
       "    <tr>\n",
       "      <th>10062</th>\n",
       "      <td>12831</td>\n",
       "      <td>2020-02-17 16:43:55.135499</td>\n",
       "      <td>2020-07-01 21:12:00.757647</td>\n",
       "      <td>1</td>\n",
       "      <td>Уважаемый Алексей, мы искренне сожалеем но вын...</td>\n",
       "      <td>f</td>\n",
       "      <td>False</td>\n",
       "      <td>NaN</td>\n",
       "      <td>NaN</td>\n",
       "      <td>18</td>\n",
       "      <td>10413</td>\n",
       "      <td>0.0</td>\n",
       "      <td>NaN</td>\n",
       "      <td>NaN</td>\n",
       "      <td>NaN</td>\n",
       "      <td>0</td>\n",
       "      <td>2020-02-17 16:43:55.133+00</td>\n",
       "      <td>2020-06-19 13:20:23.642+00</td>\n",
       "      <td>0</td>\n",
       "      <td>0</td>\n",
       "      <td>10413</td>\n",
       "      <td>0</td>\n",
       "      <td>1</td>\n",
       "      <td>0</td>\n",
       "      <td>0</td>\n",
       "      <td>0</td>\n",
       "      <td>0</td>\n",
       "      <td>0</td>\n",
       "      <td>0</td>\n",
       "      <td>2020-02-17</td>\n",
       "      <td>2020-06-19</td>\n",
       "      <td>1</td>\n",
       "      <td>1000.0</td>\n",
       "      <td>10</td>\n",
       "      <td>243</td>\n",
       "      <td>8</td>\n",
       "      <td>0.243000</td>\n",
       "      <td>0.800000</td>\n",
       "    </tr>\n",
       "    <tr>\n",
       "      <th>9778</th>\n",
       "      <td>13359</td>\n",
       "      <td>2020-02-20 16:11:30.947957</td>\n",
       "      <td>2020-10-13 21:00:01.563666</td>\n",
       "      <td>1</td>\n",
       "      <td>Course score is too low</td>\n",
       "      <td>f</td>\n",
       "      <td>False</td>\n",
       "      <td>NaN</td>\n",
       "      <td>NaN</td>\n",
       "      <td>19</td>\n",
       "      <td>10848</td>\n",
       "      <td>0.0</td>\n",
       "      <td>NaN</td>\n",
       "      <td>NaN</td>\n",
       "      <td>NaN</td>\n",
       "      <td>0</td>\n",
       "      <td>2020-02-20 16:11:30.945+00</td>\n",
       "      <td>2020-05-28 13:54:20.092+00</td>\n",
       "      <td>0</td>\n",
       "      <td>0</td>\n",
       "      <td>10848</td>\n",
       "      <td>0</td>\n",
       "      <td>0</td>\n",
       "      <td>0</td>\n",
       "      <td>0</td>\n",
       "      <td>0</td>\n",
       "      <td>0</td>\n",
       "      <td>0</td>\n",
       "      <td>0</td>\n",
       "      <td>2020-02-20</td>\n",
       "      <td>2020-05-28</td>\n",
       "      <td>1</td>\n",
       "      <td>9800.0</td>\n",
       "      <td>12</td>\n",
       "      <td>1010</td>\n",
       "      <td>1</td>\n",
       "      <td>0.103061</td>\n",
       "      <td>0.083333</td>\n",
       "    </tr>\n",
       "  </tbody>\n",
       "</table>\n",
       "</div>"
      ],
      "text/plain": [
       "       studentId                 createdDate                 updatedDate  \\\n",
       "9063        1906  2019-04-30 09:29:01.697887  2019-04-30 09:29:01.697887   \n",
       "7028         456  2019-04-22 16:15:21.081322  2019-08-05 08:55:09.750177   \n",
       "2777       11598    2020-02-05 12:07:23.9935    2020-02-05 12:07:23.9935   \n",
       "10062      12831  2020-02-17 16:43:55.135499  2020-07-01 21:12:00.757647   \n",
       "9778       13359  2020-02-20 16:11:30.947957  2020-10-13 21:00:01.563666   \n",
       "\n",
       "       isExpelled                                    expellingReason  \\\n",
       "9063            0                                                NaN   \n",
       "7028            0                                                NaN   \n",
       "2777            0                                                NaN   \n",
       "10062           1  Уважаемый Алексей, мы искренне сожалеем но вын...   \n",
       "9778            1                            Course score is too low   \n",
       "\n",
       "      courseCompleted  isTopPerformer  preferedMentorGithubId readyFullTime  \\\n",
       "9063                f           False                     NaN           NaN   \n",
       "7028                f            True                     NaN           NaN   \n",
       "2777                f           False                     NaN           NaN   \n",
       "10062               f           False                     NaN           NaN   \n",
       "9778                f           False                     NaN           NaN   \n",
       "\n",
       "       courseId  userId  mentorId  cvUrl  hiredById  hiredByName  isFailed  \\\n",
       "9063          2    3676       0.0    NaN        NaN          NaN         0   \n",
       "7028          1     828       1.0    NaN        NaN          NaN         1   \n",
       "2777         16    1446       0.0    NaN        NaN          NaN         0   \n",
       "10062        18   10413       0.0    NaN        NaN          NaN         0   \n",
       "9778         19   10848       0.0    NaN        NaN          NaN         0   \n",
       "\n",
       "                        startDate                     endDate  repository  \\\n",
       "9063   2018-09-01 19:47:14.081+00  2018-12-31 19:47:14.081+00           0   \n",
       "7028   2019-01-01 00:49:13.461+00  2019-08-25 00:49:13.461+00           0   \n",
       "2777    2020-02-05 12:07:23.99+00  2020-03-18 06:12:18.391+00           0   \n",
       "10062  2020-02-17 16:43:55.133+00  2020-06-19 13:20:23.642+00           0   \n",
       "9778   2020-02-20 16:11:30.945+00  2020-05-28 13:54:20.092+00           0   \n",
       "\n",
       "       repositoryLastActivityDate  idUser  educationHistory  englishLevel  \\\n",
       "9063                            0    3676                 0             0   \n",
       "7028                            0     828                 1             0   \n",
       "2777                            0    1446                 1             1   \n",
       "10062                           0   10413                 0             1   \n",
       "9778                            0   10848                 0             0   \n",
       "\n",
       "       user_count  primarySkillId  completed  inviteOnly  skill  quarter  \\\n",
       "9063            0               1          1           0      1        2   \n",
       "7028            1               1          1           0      1        1   \n",
       "2777            1               1          1           1      0        1   \n",
       "10062           0               0          0           0      0        0   \n",
       "9778            0               0          0           0      0        0   \n",
       "\n",
       "      start_dates  end_dates  duration  maxScore  len_tasks  score  \\\n",
       "9063   2018-09-01 2018-12-31         1    1781.0         15    284   \n",
       "7028   2019-01-01 2019-08-25         1    2027.0         15    423   \n",
       "2777   2020-02-05 2020-03-18        42    1040.0          4    190   \n",
       "10062  2020-02-17 2020-06-19         1    1000.0         10    243   \n",
       "9778   2020-02-20 2020-05-28         1    9800.0         12   1010   \n",
       "\n",
       "       number_tasks  score_part  tasks_part  \n",
       "9063              1    0.159461    0.066667  \n",
       "7028              6    0.208683    0.400000  \n",
       "2777              1    0.182692    0.250000  \n",
       "10062             8    0.243000    0.800000  \n",
       "9778              1    0.103061    0.083333  "
      ]
     },
     "execution_count": 217,
     "metadata": {},
     "output_type": "execute_result"
    }
   ],
   "source": [
    "train.head()"
   ]
  },
  {
   "cell_type": "code",
   "execution_count": 218,
   "metadata": {},
   "outputs": [],
   "source": [
    "train = train.drop(['studentId',\n",
    "                    'createdDate',\n",
    "                    'updatedDate',\n",
    "                    #'isExpelled',\n",
    "                    'expellingReason',\n",
    "                    'courseCompleted',\n",
    "                    'preferedMentorGithubId',\n",
    "                    'readyFullTime',\n",
    "                    'courseId',\n",
    "                    'userId',\n",
    "                    'cvUrl',\n",
    "                    'hiredById',\n",
    "                    'hiredByName',\n",
    "                    #'isFailed',\n",
    "                    #'repositoryLastActivityDate',\n",
    "                    'idUser',\n",
    "                    'startDate',\n",
    "                    'endDate',\n",
    "                    #'educationHistory',\n",
    "                    #'englishLevel',\n",
    "                    #'primarySkillId',\n",
    "                    #'completed',\n",
    "                    #'skill',\n",
    "                    #'quarter',\n",
    "                    #'inviteOnly',\n",
    "                    #'user_count',\n",
    "                    'maxScore',\n",
    "                    'len_tasks',\n",
    "                    'score',\n",
    "                    'number_tasks',\n",
    "                    'start_dates',\n",
    "                    'end_dates',\n",
    "                    #'duration',\n",
    "                   ], axis=1)"
   ]
  },
  {
   "cell_type": "code",
   "execution_count": 219,
   "metadata": {},
   "outputs": [],
   "source": [
    "test = test.drop(['createdDate',\n",
    "                  'updatedDate',\n",
    "                  #'isExpelled',\n",
    "                  'expellingReason',\n",
    "                  'courseCompleted',\n",
    "                  'preferedMentorGithubId',\n",
    "                  'readyFullTime',\n",
    "                  'courseId',\n",
    "                  'userId',\n",
    "                  'cvUrl',\n",
    "                  'hiredById',\n",
    "                  'hiredByName',\n",
    "                  #'isFailed',\n",
    "                  #'repositoryLastActivityDate',\n",
    "                  'idUser',\n",
    "                  'startDate',\n",
    "                  'endDate',\n",
    "                  #'educationHistory',\n",
    "                  #'englishLevel',\n",
    "                  #'primarySkillId',\n",
    "                  #'completed',\n",
    "                  #'skill',\n",
    "                  #'quarter',\n",
    "                  #'inviteOnly',\n",
    "                  #'user_count',\n",
    "                  'maxScore',\n",
    "                  'len_tasks',\n",
    "                  'score',\n",
    "                  'number_tasks',\n",
    "                  'start_dates',\n",
    "                  'end_dates',\n",
    "                  #'duration'\n",
    "                   ], axis=1)"
   ]
  },
  {
   "cell_type": "code",
   "execution_count": 220,
   "metadata": {},
   "outputs": [
    {
     "name": "stdout",
     "output_type": "stream",
     "text": [
      "<class 'pandas.core.frame.DataFrame'>\n",
      "Int64Index: 10143 entries, 9063 to 5142\n",
      "Data columns (total 17 columns):\n",
      " #   Column                      Non-Null Count  Dtype  \n",
      "---  ------                      --------------  -----  \n",
      " 0   isExpelled                  10143 non-null  int64  \n",
      " 1   isTopPerformer              10143 non-null  bool   \n",
      " 2   mentorId                    10143 non-null  float64\n",
      " 3   isFailed                    10143 non-null  int64  \n",
      " 4   repository                  10143 non-null  int64  \n",
      " 5   repositoryLastActivityDate  10143 non-null  int64  \n",
      " 6   educationHistory            10143 non-null  int64  \n",
      " 7   englishLevel                10143 non-null  int64  \n",
      " 8   user_count                  10143 non-null  int64  \n",
      " 9   primarySkillId              10143 non-null  int64  \n",
      " 10  completed                   10143 non-null  int64  \n",
      " 11  inviteOnly                  10143 non-null  int64  \n",
      " 12  skill                       10143 non-null  int64  \n",
      " 13  quarter                     10143 non-null  int64  \n",
      " 14  duration                    10143 non-null  int64  \n",
      " 15  score_part                  10143 non-null  float64\n",
      " 16  tasks_part                  10143 non-null  float64\n",
      "dtypes: bool(1), float64(3), int64(13)\n",
      "memory usage: 1.3 MB\n"
     ]
    }
   ],
   "source": [
    "train.info()"
   ]
  },
  {
   "cell_type": "code",
   "execution_count": 221,
   "metadata": {},
   "outputs": [
    {
     "name": "stdout",
     "output_type": "stream",
     "text": [
      "<class 'pandas.core.frame.DataFrame'>\n",
      "Int64Index: 2991 entries, 2765 to 105\n",
      "Data columns (total 17 columns):\n",
      " #   Column                      Non-Null Count  Dtype  \n",
      "---  ------                      --------------  -----  \n",
      " 0   studentId                   2991 non-null   int64  \n",
      " 1   isExpelled                  2991 non-null   int64  \n",
      " 2   mentorId                    2991 non-null   float64\n",
      " 3   isFailed                    2991 non-null   int64  \n",
      " 4   repository                  2991 non-null   int64  \n",
      " 5   repositoryLastActivityDate  2991 non-null   int64  \n",
      " 6   educationHistory            2991 non-null   int64  \n",
      " 7   englishLevel                2991 non-null   int64  \n",
      " 8   user_count                  2991 non-null   int64  \n",
      " 9   primarySkillId              2991 non-null   int64  \n",
      " 10  completed                   2991 non-null   int64  \n",
      " 11  inviteOnly                  2991 non-null   int64  \n",
      " 12  skill                       2991 non-null   int64  \n",
      " 13  quarter                     2991 non-null   int64  \n",
      " 14  duration                    2991 non-null   int64  \n",
      " 15  score_part                  2991 non-null   float64\n",
      " 16  tasks_part                  2991 non-null   float64\n",
      "dtypes: float64(3), int64(14)\n",
      "memory usage: 420.6 KB\n"
     ]
    }
   ],
   "source": [
    "test.info()"
   ]
  },
  {
   "cell_type": "code",
   "execution_count": 222,
   "metadata": {},
   "outputs": [],
   "source": [
    "train['isTopPerformer'] = train['isTopPerformer'].astype(str)"
   ]
  },
  {
   "cell_type": "code",
   "execution_count": 223,
   "metadata": {},
   "outputs": [],
   "source": [
    "train.loc[train['isTopPerformer'] == 'False', 'isTopPerformer'] = 0\n",
    "train.loc[train['isTopPerformer'] == 'True', 'isTopPerformer'] = 1\n",
    "train['isTopPerformer'] = train['isTopPerformer'].astype(int)"
   ]
  },
  {
   "cell_type": "code",
   "execution_count": 224,
   "metadata": {},
   "outputs": [
    {
     "name": "stdout",
     "output_type": "stream",
     "text": [
      "<class 'pandas.core.frame.DataFrame'>\n",
      "Int64Index: 10143 entries, 9063 to 5142\n",
      "Data columns (total 17 columns):\n",
      " #   Column                      Non-Null Count  Dtype  \n",
      "---  ------                      --------------  -----  \n",
      " 0   isExpelled                  10143 non-null  int64  \n",
      " 1   isTopPerformer              10143 non-null  int64  \n",
      " 2   mentorId                    10143 non-null  float64\n",
      " 3   isFailed                    10143 non-null  int64  \n",
      " 4   repository                  10143 non-null  int64  \n",
      " 5   repositoryLastActivityDate  10143 non-null  int64  \n",
      " 6   educationHistory            10143 non-null  int64  \n",
      " 7   englishLevel                10143 non-null  int64  \n",
      " 8   user_count                  10143 non-null  int64  \n",
      " 9   primarySkillId              10143 non-null  int64  \n",
      " 10  completed                   10143 non-null  int64  \n",
      " 11  inviteOnly                  10143 non-null  int64  \n",
      " 12  skill                       10143 non-null  int64  \n",
      " 13  quarter                     10143 non-null  int64  \n",
      " 14  duration                    10143 non-null  int64  \n",
      " 15  score_part                  10143 non-null  float64\n",
      " 16  tasks_part                  10143 non-null  float64\n",
      "dtypes: float64(3), int64(14)\n",
      "memory usage: 1.4 MB\n"
     ]
    }
   ],
   "source": [
    "train.info()"
   ]
  },
  {
   "cell_type": "code",
   "execution_count": 225,
   "metadata": {},
   "outputs": [
    {
     "data": {
      "text/html": [
       "<div>\n",
       "<style scoped>\n",
       "    .dataframe tbody tr th:only-of-type {\n",
       "        vertical-align: middle;\n",
       "    }\n",
       "\n",
       "    .dataframe tbody tr th {\n",
       "        vertical-align: top;\n",
       "    }\n",
       "\n",
       "    .dataframe thead th {\n",
       "        text-align: right;\n",
       "    }\n",
       "</style>\n",
       "<table border=\"1\" class=\"dataframe\">\n",
       "  <thead>\n",
       "    <tr style=\"text-align: right;\">\n",
       "      <th></th>\n",
       "      <th>studentId</th>\n",
       "      <th>isExpelled</th>\n",
       "      <th>mentorId</th>\n",
       "      <th>isFailed</th>\n",
       "      <th>repository</th>\n",
       "      <th>repositoryLastActivityDate</th>\n",
       "      <th>educationHistory</th>\n",
       "      <th>englishLevel</th>\n",
       "      <th>user_count</th>\n",
       "      <th>primarySkillId</th>\n",
       "      <th>completed</th>\n",
       "      <th>inviteOnly</th>\n",
       "      <th>skill</th>\n",
       "      <th>quarter</th>\n",
       "      <th>duration</th>\n",
       "      <th>score_part</th>\n",
       "      <th>tasks_part</th>\n",
       "    </tr>\n",
       "  </thead>\n",
       "  <tbody>\n",
       "    <tr>\n",
       "      <th>2765</th>\n",
       "      <td>589</td>\n",
       "      <td>0</td>\n",
       "      <td>1.0</td>\n",
       "      <td>0</td>\n",
       "      <td>0</td>\n",
       "      <td>0</td>\n",
       "      <td>1</td>\n",
       "      <td>1</td>\n",
       "      <td>0</td>\n",
       "      <td>1</td>\n",
       "      <td>1</td>\n",
       "      <td>0</td>\n",
       "      <td>1</td>\n",
       "      <td>1</td>\n",
       "      <td>3</td>\n",
       "      <td>0.027627</td>\n",
       "      <td>0.066667</td>\n",
       "    </tr>\n",
       "    <tr>\n",
       "      <th>558</th>\n",
       "      <td>15607</td>\n",
       "      <td>0</td>\n",
       "      <td>0.0</td>\n",
       "      <td>0</td>\n",
       "      <td>0</td>\n",
       "      <td>0</td>\n",
       "      <td>0</td>\n",
       "      <td>0</td>\n",
       "      <td>1</td>\n",
       "      <td>1</td>\n",
       "      <td>1</td>\n",
       "      <td>0</td>\n",
       "      <td>0</td>\n",
       "      <td>2</td>\n",
       "      <td>1</td>\n",
       "      <td>0.000000</td>\n",
       "      <td>0.333333</td>\n",
       "    </tr>\n",
       "    <tr>\n",
       "      <th>541</th>\n",
       "      <td>14753</td>\n",
       "      <td>0</td>\n",
       "      <td>0.0</td>\n",
       "      <td>0</td>\n",
       "      <td>0</td>\n",
       "      <td>0</td>\n",
       "      <td>0</td>\n",
       "      <td>0</td>\n",
       "      <td>0</td>\n",
       "      <td>1</td>\n",
       "      <td>1</td>\n",
       "      <td>0</td>\n",
       "      <td>0</td>\n",
       "      <td>2</td>\n",
       "      <td>1</td>\n",
       "      <td>0.000000</td>\n",
       "      <td>0.333333</td>\n",
       "    </tr>\n",
       "    <tr>\n",
       "      <th>2309</th>\n",
       "      <td>12841</td>\n",
       "      <td>0</td>\n",
       "      <td>1.0</td>\n",
       "      <td>0</td>\n",
       "      <td>1</td>\n",
       "      <td>1</td>\n",
       "      <td>0</td>\n",
       "      <td>0</td>\n",
       "      <td>0</td>\n",
       "      <td>0</td>\n",
       "      <td>0</td>\n",
       "      <td>0</td>\n",
       "      <td>0</td>\n",
       "      <td>0</td>\n",
       "      <td>3</td>\n",
       "      <td>0.633000</td>\n",
       "      <td>0.700000</td>\n",
       "    </tr>\n",
       "    <tr>\n",
       "      <th>717</th>\n",
       "      <td>15338</td>\n",
       "      <td>0</td>\n",
       "      <td>0.0</td>\n",
       "      <td>0</td>\n",
       "      <td>0</td>\n",
       "      <td>0</td>\n",
       "      <td>1</td>\n",
       "      <td>0</td>\n",
       "      <td>0</td>\n",
       "      <td>1</td>\n",
       "      <td>1</td>\n",
       "      <td>0</td>\n",
       "      <td>0</td>\n",
       "      <td>2</td>\n",
       "      <td>1</td>\n",
       "      <td>0.000000</td>\n",
       "      <td>0.333333</td>\n",
       "    </tr>\n",
       "  </tbody>\n",
       "</table>\n",
       "</div>"
      ],
      "text/plain": [
       "      studentId  isExpelled  mentorId  isFailed  repository  \\\n",
       "2765        589           0       1.0         0           0   \n",
       "558       15607           0       0.0         0           0   \n",
       "541       14753           0       0.0         0           0   \n",
       "2309      12841           0       1.0         0           1   \n",
       "717       15338           0       0.0         0           0   \n",
       "\n",
       "      repositoryLastActivityDate  educationHistory  englishLevel  user_count  \\\n",
       "2765                           0                 1             1           0   \n",
       "558                            0                 0             0           1   \n",
       "541                            0                 0             0           0   \n",
       "2309                           1                 0             0           0   \n",
       "717                            0                 1             0           0   \n",
       "\n",
       "      primarySkillId  completed  inviteOnly  skill  quarter  duration  \\\n",
       "2765               1          1           0      1        1         3   \n",
       "558                1          1           0      0        2         1   \n",
       "541                1          1           0      0        2         1   \n",
       "2309               0          0           0      0        0         3   \n",
       "717                1          1           0      0        2         1   \n",
       "\n",
       "      score_part  tasks_part  \n",
       "2765    0.027627    0.066667  \n",
       "558     0.000000    0.333333  \n",
       "541     0.000000    0.333333  \n",
       "2309    0.633000    0.700000  \n",
       "717     0.000000    0.333333  "
      ]
     },
     "execution_count": 225,
     "metadata": {},
     "output_type": "execute_result"
    }
   ],
   "source": [
    "test.head()"
   ]
  },
  {
   "cell_type": "code",
   "execution_count": 226,
   "metadata": {},
   "outputs": [
    {
     "data": {
      "text/plain": [
       "<AxesSubplot:>"
      ]
     },
     "execution_count": 226,
     "metadata": {},
     "output_type": "execute_result"
    },
    {
     "data": {
      "image/png": "[encoded data removed]",
      "text/plain": [
       "<Figure size 2160x1080 with 2 Axes>"
      ]
     },
     "metadata": {
      "needs_background": "light"
     },
     "output_type": "display_data"
    }
   ],
   "source": [
    "plt.figure(figsize=(30,15))\n",
    "sns.heatmap(train.corr(), vmax=0.6, square=True, annot=True)"
   ]
  },
  {
   "cell_type": "code",
   "execution_count": 227,
   "metadata": {},
   "outputs": [],
   "source": [
    "X = train.drop(['isTopPerformer'], axis=1)\n",
    "y = train['isTopPerformer']"
   ]
  },
  {
   "cell_type": "code",
   "execution_count": 228,
   "metadata": {},
   "outputs": [],
   "source": [
    "X_test = test.drop(['studentId'], axis=1)"
   ]
  },
  {
   "cell_type": "code",
   "execution_count": 232,
   "metadata": {},
   "outputs": [],
   "source": [
    "from sklearn.model_selection import KFold, RepeatedStratifiedKFold\n",
    "from sklearn.model_selection import cross_val_score\n",
    "from sklearn.metrics import plot_confusion_matrix\n",
    "from sklearn.linear_model import SGDClassifier, LogisticRegression\n",
    "from sklearn.preprocessing import StandardScaler\n",
    "from sklearn.neighbors import KNeighborsClassifier\n",
    "from sklearn.ensemble import RandomForestClassifier\n",
    "from sklearn.pipeline import make_pipeline\n",
    "from imblearn.pipeline import Pipeline\n",
    "from imblearn.over_sampling import SMOTE\n",
    "from imblearn.under_sampling import RandomUnderSampler"
   ]
  },
  {
   "cell_type": "code",
   "execution_count": 233,
   "metadata": {},
   "outputs": [],
   "source": [
    "k_fold = KFold(n_splits=5, shuffle=True, random_state=42)\n",
    "rs_fold = RepeatedStratifiedKFold(n_splits=10, n_repeats=3, random_state=1)"
   ]
  },
  {
   "cell_type": "code",
   "execution_count": 234,
   "metadata": {},
   "outputs": [],
   "source": [
    "over = SMOTE(sampling_strategy=0.5)\n",
    "under = RandomUnderSampler(sampling_strategy=0.7)"
   ]
  },
  {
   "cell_type": "code",
   "execution_count": 235,
   "metadata": {},
   "outputs": [],
   "source": [
    "lr = LogisticRegression(C=0.001, class_weight='balanced', max_iter=10000, random_state=42)\n",
    "#sgd = SGDClassifier(loss='log', alpha=0.001, n_jobs=-1, random_state=42)\n",
    "rfc = RandomForestClassifier(random_state=42)\n",
    "scaler = StandardScaler()"
   ]
  },
  {
   "cell_type": "code",
   "execution_count": 236,
   "metadata": {},
   "outputs": [],
   "source": [
    "models_f1 = []\n",
    "\n",
    "# Without feature scaling, logistic regression\n",
    "models_f1.append(cross_val_score(lr, X, y, scoring='f1', cv=rs_fold).mean())\n",
    "\n",
    "#With scaling StandardScaler + LogisticRegression\n",
    "model_scaling = make_pipeline(StandardScaler(), lr)\n",
    "models_f1.append(cross_val_score(model_scaling, X, y, scoring='f1', cv=rs_fold).mean())\n",
    "\n",
    "# Without SMOTE + logistic regression\n",
    "steps_lr = [('over', over), ('under', under), ('model', lr)]\n",
    "pipeline_lr = Pipeline(steps=steps_lr)\n",
    "models_f1.append(cross_val_score(pipeline_lr, X, y, scoring='f1', cv=rs_fold).mean())\n",
    "\n",
    "#With SMOTE + StandardScaler + LogisticRegression\n",
    "steps_scaling_lr = [('over', over), ('under', under), ('scaling', StandardScaler()), ('model', lr)]\n",
    "pipeline_scaling_lr = Pipeline(steps=steps_scaling_lr)\n",
    "models_f1.append(cross_val_score(pipeline_scaling_lr, X, y, scoring='f1', cv=rs_fold).mean())\n",
    "\n",
    "# Without feature scaling, RandomForestClassification\n",
    "models_f1.append(cross_val_score(rfc, X, y, scoring='f1', cv=rs_fold).mean())\n",
    "\n",
    "#With scaling StandardScaler + RFC\n",
    "model_scaling_rfc = make_pipeline(StandardScaler(), rfc)\n",
    "models_f1.append(cross_val_score(model_scaling_rfc, X, y, scoring='f1', cv=rs_fold).mean())\n",
    "\n",
    "# Without SMOTE+RandomForestClassification\n",
    "steps_rfc = [('over', over), ('under', under), ('model', rfc)]\n",
    "pipeline_rfc = Pipeline(steps=steps_rfc)\n",
    "models_f1.append(cross_val_score(pipeline_rfc, X, y, scoring='f1', cv=rs_fold).mean())"
   ]
  },
  {
   "cell_type": "code",
   "execution_count": 237,
   "metadata": {
    "scrolled": true
   },
   "outputs": [
    {
     "data": {
      "text/html": [
       "<div>\n",
       "<style scoped>\n",
       "    .dataframe tbody tr th:only-of-type {\n",
       "        vertical-align: middle;\n",
       "    }\n",
       "\n",
       "    .dataframe tbody tr th {\n",
       "        vertical-align: top;\n",
       "    }\n",
       "\n",
       "    .dataframe thead th {\n",
       "        text-align: right;\n",
       "    }\n",
       "</style>\n",
       "<table border=\"1\" class=\"dataframe\">\n",
       "  <thead>\n",
       "    <tr style=\"text-align: right;\">\n",
       "      <th></th>\n",
       "      <th>f1</th>\n",
       "    </tr>\n",
       "  </thead>\n",
       "  <tbody>\n",
       "    <tr>\n",
       "      <th>LogisticRegression</th>\n",
       "      <td>0.834403</td>\n",
       "    </tr>\n",
       "    <tr>\n",
       "      <th>StandardScaler+LogisticRegression</th>\n",
       "      <td>0.840446</td>\n",
       "    </tr>\n",
       "    <tr>\n",
       "      <th>SMOTE+LogisticRegression</th>\n",
       "      <td>0.833904</td>\n",
       "    </tr>\n",
       "    <tr>\n",
       "      <th>SMOTE+StandardScaler+LogisticRegression</th>\n",
       "      <td>0.837661</td>\n",
       "    </tr>\n",
       "    <tr>\n",
       "      <th>RFC</th>\n",
       "      <td>0.940913</td>\n",
       "    </tr>\n",
       "    <tr>\n",
       "      <th>StandardScaler+RFC</th>\n",
       "      <td>0.940507</td>\n",
       "    </tr>\n",
       "    <tr>\n",
       "      <th>SMOTE+RFC</th>\n",
       "      <td>0.937683</td>\n",
       "    </tr>\n",
       "  </tbody>\n",
       "</table>\n",
       "</div>"
      ],
      "text/plain": [
       "                                               f1\n",
       "LogisticRegression                       0.834403\n",
       "StandardScaler+LogisticRegression        0.840446\n",
       "SMOTE+LogisticRegression                 0.833904\n",
       "SMOTE+StandardScaler+LogisticRegression  0.837661\n",
       "RFC                                      0.940913\n",
       "StandardScaler+RFC                       0.940507\n",
       "SMOTE+RFC                                0.937683"
      ]
     },
     "execution_count": 237,
     "metadata": {},
     "output_type": "execute_result"
    }
   ],
   "source": [
    "accuracy_df = pd.DataFrame({'f1': models_f1}, \n",
    "                           index = [\n",
    "                                    'LogisticRegression', 'StandardScaler+LogisticRegression',\n",
    "                                    'SMOTE+LogisticRegression', 'SMOTE+StandardScaler+LogisticRegression',\n",
    "                                    'RFC', 'StandardScaler+RFC', 'SMOTE+RFC'\n",
    "                                   ])\n",
    "accuracy_df"
   ]
  },
  {
   "cell_type": "code",
   "execution_count": 238,
   "metadata": {},
   "outputs": [],
   "source": [
    "lr.fit(X, y)\n",
    "y_pred_lr = lr.predict(X_test)"
   ]
  },
  {
   "cell_type": "code",
   "execution_count": 239,
   "metadata": {},
   "outputs": [],
   "source": [
    "model_scaling.fit(X, y)\n",
    "y_pred_scaling_lr = model_scaling.predict(X_test)"
   ]
  },
  {
   "cell_type": "code",
   "execution_count": 240,
   "metadata": {},
   "outputs": [],
   "source": [
    "pipeline_lr.fit(X, y)\n",
    "y_pred_smote_lr = pipeline_lr.predict(X_test)"
   ]
  },
  {
   "cell_type": "code",
   "execution_count": 241,
   "metadata": {},
   "outputs": [],
   "source": [
    "pipeline_scaling_lr.fit(X, y)\n",
    "y_pred_smote_scaling_lr = pipeline_scaling_lr.predict(X_test)"
   ]
  },
  {
   "cell_type": "code",
   "execution_count": 242,
   "metadata": {},
   "outputs": [],
   "source": [
    "rfc.fit(X, y)\n",
    "y_pred_rfc = rfc.predict(X_test)"
   ]
  },
  {
   "cell_type": "code",
   "execution_count": 243,
   "metadata": {},
   "outputs": [],
   "source": [
    "model_scaling_rfc.fit(X, y)\n",
    "y_pred_scaling_rfc = model_scaling_rfc.predict(X_test)"
   ]
  },
  {
   "cell_type": "code",
   "execution_count": 244,
   "metadata": {},
   "outputs": [],
   "source": [
    "pipeline_rfc.fit(X, y)\n",
    "y_pred_smote_rfc = pipeline_rfc.predict(X_test)"
   ]
  },
  {
   "cell_type": "code",
   "execution_count": 245,
   "metadata": {},
   "outputs": [],
   "source": [
    "res_df = pd.DataFrame({'LR': y_pred_lr,\n",
    "                       'Scaler+LR': y_pred_scaling_lr,\n",
    "                       'SMOTE+LR': y_pred_smote_lr,\n",
    "                       'Scaler+SMOTE+LR': y_pred_smote_scaling_lr,\n",
    "                       'RFC': y_pred_rfc,\n",
    "                       'Scaler+RFC': y_pred_scaling_rfc,\n",
    "                       'SMOTE+RFC': y_pred_smote_rfc,\n",
    "                      })"
   ]
  },
  {
   "cell_type": "code",
   "execution_count": 246,
   "metadata": {},
   "outputs": [
    {
     "data": {
      "text/html": [
       "<div>\n",
       "<style scoped>\n",
       "    .dataframe tbody tr th:only-of-type {\n",
       "        vertical-align: middle;\n",
       "    }\n",
       "\n",
       "    .dataframe tbody tr th {\n",
       "        vertical-align: top;\n",
       "    }\n",
       "\n",
       "    .dataframe thead th {\n",
       "        text-align: right;\n",
       "    }\n",
       "</style>\n",
       "<table border=\"1\" class=\"dataframe\">\n",
       "  <thead>\n",
       "    <tr style=\"text-align: right;\">\n",
       "      <th></th>\n",
       "      <th>LR</th>\n",
       "      <th>Scaler+LR</th>\n",
       "      <th>SMOTE+LR</th>\n",
       "      <th>Scaler+SMOTE+LR</th>\n",
       "      <th>RFC</th>\n",
       "      <th>Scaler+RFC</th>\n",
       "      <th>SMOTE+RFC</th>\n",
       "    </tr>\n",
       "  </thead>\n",
       "  <tbody>\n",
       "    <tr>\n",
       "      <th>0</th>\n",
       "      <td>1</td>\n",
       "      <td>1</td>\n",
       "      <td>1</td>\n",
       "      <td>1</td>\n",
       "      <td>0</td>\n",
       "      <td>0</td>\n",
       "      <td>0</td>\n",
       "    </tr>\n",
       "    <tr>\n",
       "      <th>1</th>\n",
       "      <td>0</td>\n",
       "      <td>0</td>\n",
       "      <td>0</td>\n",
       "      <td>0</td>\n",
       "      <td>0</td>\n",
       "      <td>0</td>\n",
       "      <td>0</td>\n",
       "    </tr>\n",
       "    <tr>\n",
       "      <th>2</th>\n",
       "      <td>0</td>\n",
       "      <td>0</td>\n",
       "      <td>0</td>\n",
       "      <td>0</td>\n",
       "      <td>0</td>\n",
       "      <td>0</td>\n",
       "      <td>0</td>\n",
       "    </tr>\n",
       "    <tr>\n",
       "      <th>3</th>\n",
       "      <td>1</td>\n",
       "      <td>1</td>\n",
       "      <td>1</td>\n",
       "      <td>1</td>\n",
       "      <td>1</td>\n",
       "      <td>1</td>\n",
       "      <td>1</td>\n",
       "    </tr>\n",
       "    <tr>\n",
       "      <th>4</th>\n",
       "      <td>0</td>\n",
       "      <td>0</td>\n",
       "      <td>0</td>\n",
       "      <td>0</td>\n",
       "      <td>0</td>\n",
       "      <td>0</td>\n",
       "      <td>0</td>\n",
       "    </tr>\n",
       "    <tr>\n",
       "      <th>5</th>\n",
       "      <td>0</td>\n",
       "      <td>0</td>\n",
       "      <td>0</td>\n",
       "      <td>0</td>\n",
       "      <td>0</td>\n",
       "      <td>0</td>\n",
       "      <td>0</td>\n",
       "    </tr>\n",
       "    <tr>\n",
       "      <th>6</th>\n",
       "      <td>1</td>\n",
       "      <td>1</td>\n",
       "      <td>1</td>\n",
       "      <td>1</td>\n",
       "      <td>0</td>\n",
       "      <td>0</td>\n",
       "      <td>0</td>\n",
       "    </tr>\n",
       "    <tr>\n",
       "      <th>7</th>\n",
       "      <td>1</td>\n",
       "      <td>1</td>\n",
       "      <td>1</td>\n",
       "      <td>1</td>\n",
       "      <td>0</td>\n",
       "      <td>0</td>\n",
       "      <td>1</td>\n",
       "    </tr>\n",
       "    <tr>\n",
       "      <th>8</th>\n",
       "      <td>0</td>\n",
       "      <td>0</td>\n",
       "      <td>0</td>\n",
       "      <td>0</td>\n",
       "      <td>0</td>\n",
       "      <td>0</td>\n",
       "      <td>0</td>\n",
       "    </tr>\n",
       "    <tr>\n",
       "      <th>9</th>\n",
       "      <td>1</td>\n",
       "      <td>1</td>\n",
       "      <td>1</td>\n",
       "      <td>1</td>\n",
       "      <td>0</td>\n",
       "      <td>0</td>\n",
       "      <td>0</td>\n",
       "    </tr>\n",
       "  </tbody>\n",
       "</table>\n",
       "</div>"
      ],
      "text/plain": [
       "   LR  Scaler+LR  SMOTE+LR  Scaler+SMOTE+LR  RFC  Scaler+RFC  SMOTE+RFC\n",
       "0   1          1         1                1    0           0          0\n",
       "1   0          0         0                0    0           0          0\n",
       "2   0          0         0                0    0           0          0\n",
       "3   1          1         1                1    1           1          1\n",
       "4   0          0         0                0    0           0          0\n",
       "5   0          0         0                0    0           0          0\n",
       "6   1          1         1                1    0           0          0\n",
       "7   1          1         1                1    0           0          1\n",
       "8   0          0         0                0    0           0          0\n",
       "9   1          1         1                1    0           0          0"
      ]
     },
     "execution_count": 246,
     "metadata": {},
     "output_type": "execute_result"
    }
   ],
   "source": [
    "res_df.head(10)"
   ]
  },
  {
   "cell_type": "code",
   "execution_count": 247,
   "metadata": {},
   "outputs": [],
   "source": [
    "res_df['Mean'] = res_df.mean(axis=1)"
   ]
  },
  {
   "cell_type": "code",
   "execution_count": 248,
   "metadata": {},
   "outputs": [],
   "source": [
    "res_df.loc[res_df['Mean'] >= 0.5, 'Mean'] = 1\n",
    "res_df.loc[res_df['Mean'] < 0.5, 'Mean'] = 0\n",
    "res_df['Mean'] = res_df['Mean'].astype(int)"
   ]
  },
  {
   "cell_type": "code",
   "execution_count": 124,
   "metadata": {},
   "outputs": [],
   "source": [
    "def make_submission(df, pred, n):\n",
    "    '''\n",
    "    Create submission file\n",
    "    :param df: test dataframe\n",
    "    :param pred: predictions\n",
    "    :n: numner of the file\n",
    "    :returns: submission file in the appropriate format\n",
    "    '''\n",
    "    submission = pd.DataFrame({\n",
    "            \"studentId\": df[\"studentId\"],\n",
    "            \"isTopPerformer\": pred\n",
    "        })\n",
    "\n",
    "    submission.to_csv('submission_RSS_{}.csv'.format(n), index=False)"
   ]
  },
  {
   "cell_type": "code",
   "execution_count": 249,
   "metadata": {},
   "outputs": [],
   "source": [
    "y_pred_fin = []\n",
    "for i in res_df['Mean'].values.tolist():\n",
    "    if i == 0:\n",
    "        y_pred_fin.append('False')\n",
    "    else:\n",
    "        y_pred_fin.append('True')\n",
    "make_submission(test, y_pred_fin, 2)"
   ]
  },
  {
   "cell_type": "code",
   "execution_count": null,
   "metadata": {},
   "outputs": [],
   "source": []
  }
 ],
 "metadata": {
  "kernelspec": {
   "display_name": "Python 3",
   "language": "python",
   "name": "python3"
  },
  "language_info": {
   "codemirror_mode": {
    "name": "ipython",
    "version": 3
   },
   "file_extension": ".py",
   "mimetype": "text/x-python",
   "name": "python",
   "nbconvert_exporter": "python",
   "pygments_lexer": "ipython3",
   "version": "3.7.6"
  }
 },
 "nbformat": 4,
 "nbformat_minor": 4
}
