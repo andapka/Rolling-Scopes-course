{
 "cells": [
  {
   "cell_type": "markdown",
   "metadata": {},
   "source": [
    "Let's import needed libraries"
   ]
  },
  {
   "cell_type": "code",
   "execution_count": 1,
   "metadata": {},
   "outputs": [],
   "source": [
    "import numpy as np\n",
    "import pandas as pd\n",
    "import seaborn as sns\n",
    "import matplotlib.pyplot as plt\n",
    "\n",
    "pd.set_option('display.max_columns', None)"
   ]
  },
  {
   "cell_type": "markdown",
   "metadata": {},
   "source": [
    "Let's import the data"
   ]
  },
  {
   "cell_type": "code",
   "execution_count": 2,
   "metadata": {},
   "outputs": [],
   "source": [
    "train = pd.read_csv('data/train.csv')\n",
    "test = pd.read_csv('data/test.csv')"
   ]
  },
  {
   "cell_type": "code",
   "execution_count": 3,
   "metadata": {},
   "outputs": [
    {
     "data": {
      "text/plain": [
       "((10471, 23), (2991, 22))"
      ]
     },
     "execution_count": 3,
     "metadata": {},
     "output_type": "execute_result"
    }
   ],
   "source": [
    "train.shape, test.shape"
   ]
  },
  {
   "cell_type": "code",
   "execution_count": 4,
   "metadata": {},
   "outputs": [
    {
     "name": "stdout",
     "output_type": "stream",
     "text": [
      "<class 'pandas.core.frame.DataFrame'>\n",
      "RangeIndex: 10471 entries, 0 to 10470\n",
      "Data columns (total 23 columns):\n",
      " #   Column                      Non-Null Count  Dtype  \n",
      "---  ------                      --------------  -----  \n",
      " 0   studentId                   10471 non-null  int64  \n",
      " 1   createdDate                 10471 non-null  object \n",
      " 2   updatedDate                 10471 non-null  object \n",
      " 3   isExpelled                  10471 non-null  object \n",
      " 4   expellingReason             5460 non-null   object \n",
      " 5   courseCompleted             10471 non-null  object \n",
      " 6   isTopPerformer              10471 non-null  bool   \n",
      " 7   preferedMentorGithubId      0 non-null      float64\n",
      " 8   readyFullTime               1 non-null      object \n",
      " 9   courseId                    10471 non-null  int64  \n",
      " 10  userId                      10471 non-null  int64  \n",
      " 11  mentorId                    2609 non-null   float64\n",
      " 12  cvUrl                       0 non-null      float64\n",
      " 13  hiredById                   0 non-null      float64\n",
      " 14  hiredByName                 0 non-null      float64\n",
      " 15  isFailed                    10471 non-null  object \n",
      " 16  startDate                   10471 non-null  object \n",
      " 17  endDate                     9032 non-null   object \n",
      " 18  repository                  1510 non-null   object \n",
      " 19  repositoryLastActivityDate  371 non-null    object \n",
      " 20  idUser                      10471 non-null  int64  \n",
      " 21  educationHistory            10471 non-null  object \n",
      " 22  englishLevel                5412 non-null   object \n",
      "dtypes: bool(1), float64(5), int64(4), object(13)\n",
      "memory usage: 1.8+ MB\n"
     ]
    }
   ],
   "source": [
    "train.info()"
   ]
  },
  {
   "cell_type": "code",
   "execution_count": 5,
   "metadata": {},
   "outputs": [
    {
     "name": "stdout",
     "output_type": "stream",
     "text": [
      "<class 'pandas.core.frame.DataFrame'>\n",
      "RangeIndex: 2991 entries, 0 to 2990\n",
      "Data columns (total 22 columns):\n",
      " #   Column                      Non-Null Count  Dtype  \n",
      "---  ------                      --------------  -----  \n",
      " 0   studentId                   2991 non-null   int64  \n",
      " 1   createdDate                 2991 non-null   object \n",
      " 2   updatedDate                 2991 non-null   object \n",
      " 3   isExpelled                  2991 non-null   object \n",
      " 4   expellingReason             0 non-null      float64\n",
      " 5   courseCompleted             2991 non-null   object \n",
      " 6   preferedMentorGithubId      0 non-null      float64\n",
      " 7   readyFullTime               0 non-null      float64\n",
      " 8   courseId                    2991 non-null   int64  \n",
      " 9   userId                      2991 non-null   int64  \n",
      " 10  mentorId                    467 non-null    float64\n",
      " 11  cvUrl                       0 non-null      float64\n",
      " 12  hiredById                   0 non-null      float64\n",
      " 13  hiredByName                 0 non-null      float64\n",
      " 14  isFailed                    2991 non-null   object \n",
      " 15  startDate                   2991 non-null   object \n",
      " 16  endDate                     0 non-null      float64\n",
      " 17  repository                  287 non-null    object \n",
      " 18  repositoryLastActivityDate  78 non-null     object \n",
      " 19  idUser                      2991 non-null   int64  \n",
      " 20  educationHistory            2991 non-null   object \n",
      " 21  englishLevel                1495 non-null   object \n",
      "dtypes: float64(8), int64(4), object(10)\n",
      "memory usage: 514.2+ KB\n"
     ]
    }
   ],
   "source": [
    "test.info()"
   ]
  },
  {
   "cell_type": "markdown",
   "metadata": {},
   "source": [
    "Initially, let's look on the target feature"
   ]
  },
  {
   "cell_type": "code",
   "execution_count": 6,
   "metadata": {},
   "outputs": [
    {
     "data": {
      "text/plain": [
       "<AxesSubplot:xlabel='isTopPerformer', ylabel='count'>"
      ]
     },
     "execution_count": 6,
     "metadata": {},
     "output_type": "execute_result"
    },
    {
     "data": {
      "image/png": "[encoded data removed]",
      "text/plain": [
       "<Figure size 432x288 with 1 Axes>"
      ]
     },
     "metadata": {
      "needs_background": "light"
     },
     "output_type": "display_data"
    }
   ],
   "source": [
    "sns.countplot(x='isTopPerformer', data=train)"
   ]
  },
  {
   "cell_type": "markdown",
   "metadata": {},
   "source": [
    "It seems that target classes are imbalanced. Now we leave it as is, but we will try to make oversampling or undersampling later."
   ]
  },
  {
   "cell_type": "markdown",
   "metadata": {},
   "source": [
    "Let's look through all other features"
   ]
  },
  {
   "cell_type": "code",
   "execution_count": 7,
   "metadata": {},
   "outputs": [
    {
     "name": "stderr",
     "output_type": "stream",
     "text": [
      "/Users/andreishchahlou/opt/anaconda3/lib/python3.7/site-packages/seaborn/_decorators.py:43: FutureWarning: Pass the following variable as a keyword arg: x. From version 0.12, the only valid positional argument will be `data`, and passing other arguments without an explicit keyword will result in an error or misinterpretation.\n",
      "  FutureWarning\n",
      "/Users/andreishchahlou/opt/anaconda3/lib/python3.7/site-packages/seaborn/_decorators.py:43: FutureWarning: Pass the following variable as a keyword arg: x. From version 0.12, the only valid positional argument will be `data`, and passing other arguments without an explicit keyword will result in an error or misinterpretation.\n",
      "  FutureWarning\n"
     ]
    },
    {
     "data": {
      "text/plain": [
       "<AxesSubplot:xlabel='isExpelled', ylabel='count'>"
      ]
     },
     "execution_count": 7,
     "metadata": {},
     "output_type": "execute_result"
    },
    {
     "data": {
      "image/png": "[encoded data removed]",
      "text/plain": [
       "<Figure size 432x288 with 2 Axes>"
      ]
     },
     "metadata": {
      "needs_background": "light"
     },
     "output_type": "display_data"
    }
   ],
   "source": [
    "fig, ax =plt.subplots(1,2)\n",
    "sns.countplot(train['isExpelled'], ax=ax[0])\n",
    "sns.countplot(test['isExpelled'], ax=ax[1])"
   ]
  },
  {
   "cell_type": "code",
   "execution_count": 8,
   "metadata": {},
   "outputs": [
    {
     "data": {
      "text/plain": [
       "<AxesSubplot:xlabel='isExpelled', ylabel='count'>"
      ]
     },
     "execution_count": 8,
     "metadata": {},
     "output_type": "execute_result"
    },
    {
     "data": {
      "image/png": "[encoded data removed]",
      "text/plain": [
       "<Figure size 432x288 with 1 Axes>"
      ]
     },
     "metadata": {
      "needs_background": "light"
     },
     "output_type": "display_data"
    }
   ],
   "source": [
    "sns.countplot(x='isExpelled', hue='isTopPerformer', data=train)"
   ]
  },
  {
   "cell_type": "markdown",
   "metadata": {},
   "source": [
    "Well, it seems that we can use this feature. Let's update it"
   ]
  },
  {
   "cell_type": "code",
   "execution_count": 9,
   "metadata": {},
   "outputs": [],
   "source": [
    "train.loc[train['isExpelled'] == 'f', 'isExpelled'] = 0\n",
    "train.loc[train['isExpelled'] == 't', 'isExpelled'] = 1\n",
    "train['isExpelled'] = train['isExpelled'].astype(int)"
   ]
  },
  {
   "cell_type": "code",
   "execution_count": 10,
   "metadata": {},
   "outputs": [],
   "source": [
    "test.loc[test['isExpelled'] == 'f', 'isExpelled'] = 0\n",
    "test.loc[test['isExpelled'] == 't', 'isExpelled'] = 1\n",
    "test['isExpelled'] = test['isExpelled'].astype(int)"
   ]
  },
  {
   "cell_type": "markdown",
   "metadata": {},
   "source": [
    "The next one"
   ]
  },
  {
   "cell_type": "code",
   "execution_count": 11,
   "metadata": {},
   "outputs": [
    {
     "name": "stderr",
     "output_type": "stream",
     "text": [
      "/Users/andreishchahlou/opt/anaconda3/lib/python3.7/site-packages/seaborn/_decorators.py:43: FutureWarning: Pass the following variable as a keyword arg: x. From version 0.12, the only valid positional argument will be `data`, and passing other arguments without an explicit keyword will result in an error or misinterpretation.\n",
      "  FutureWarning\n",
      "/Users/andreishchahlou/opt/anaconda3/lib/python3.7/site-packages/seaborn/_decorators.py:43: FutureWarning: Pass the following variable as a keyword arg: x. From version 0.12, the only valid positional argument will be `data`, and passing other arguments without an explicit keyword will result in an error or misinterpretation.\n",
      "  FutureWarning\n",
      "/Users/andreishchahlou/opt/anaconda3/lib/python3.7/site-packages/ipykernel_launcher.py:4: UserWarning: Matplotlib is currently using module://ipykernel.pylab.backend_inline, which is a non-GUI backend, so cannot show the figure.\n",
      "  after removing the cwd from sys.path.\n"
     ]
    },
    {
     "data": {
      "image/png": "[encoded data removed]",
      "text/plain": [
       "<Figure size 432x288 with 2 Axes>"
      ]
     },
     "metadata": {
      "needs_background": "light"
     },
     "output_type": "display_data"
    }
   ],
   "source": [
    "fig, ax =plt.subplots(1,2)\n",
    "sns.countplot(train['courseCompleted'], ax=ax[0])\n",
    "sns.countplot(test['courseCompleted'], ax=ax[1])\n",
    "fig.show()"
   ]
  },
  {
   "cell_type": "markdown",
   "metadata": {},
   "source": [
    "Well, this feature is unuseful. Skip it. Let's look on the next one."
   ]
  },
  {
   "cell_type": "code",
   "execution_count": 12,
   "metadata": {},
   "outputs": [],
   "source": [
    "train.loc[train['repository'].notnull(), 'repository'] = 1\n",
    "train['repository'] = train['repository'].fillna(0)"
   ]
  },
  {
   "cell_type": "code",
   "execution_count": 13,
   "metadata": {},
   "outputs": [],
   "source": [
    "test.loc[test['repository'].notnull(), 'repository'] = 1\n",
    "test['repository'] = test['repository'].fillna(0)"
   ]
  },
  {
   "cell_type": "code",
   "execution_count": 14,
   "metadata": {},
   "outputs": [
    {
     "name": "stderr",
     "output_type": "stream",
     "text": [
      "/Users/andreishchahlou/opt/anaconda3/lib/python3.7/site-packages/seaborn/_decorators.py:43: FutureWarning: Pass the following variable as a keyword arg: x. From version 0.12, the only valid positional argument will be `data`, and passing other arguments without an explicit keyword will result in an error or misinterpretation.\n",
      "  FutureWarning\n",
      "/Users/andreishchahlou/opt/anaconda3/lib/python3.7/site-packages/seaborn/_decorators.py:43: FutureWarning: Pass the following variable as a keyword arg: x. From version 0.12, the only valid positional argument will be `data`, and passing other arguments without an explicit keyword will result in an error or misinterpretation.\n",
      "  FutureWarning\n",
      "/Users/andreishchahlou/opt/anaconda3/lib/python3.7/site-packages/ipykernel_launcher.py:4: UserWarning: Matplotlib is currently using module://ipykernel.pylab.backend_inline, which is a non-GUI backend, so cannot show the figure.\n",
      "  after removing the cwd from sys.path.\n"
     ]
    },
    {
     "data": {
      "image/png": "[encoded data removed]",
      "text/plain": [
       "<Figure size 432x288 with 2 Axes>"
      ]
     },
     "metadata": {
      "needs_background": "light"
     },
     "output_type": "display_data"
    }
   ],
   "source": [
    "fig, ax =plt.subplots(1,2)\n",
    "sns.countplot(train['repository'], ax=ax[0])\n",
    "sns.countplot(test['repository'], ax=ax[1])\n",
    "fig.show()"
   ]
  },
  {
   "cell_type": "code",
   "execution_count": 15,
   "metadata": {},
   "outputs": [
    {
     "data": {
      "text/plain": [
       "<AxesSubplot:xlabel='isTopPerformer', ylabel='count'>"
      ]
     },
     "execution_count": 15,
     "metadata": {},
     "output_type": "execute_result"
    },
    {
     "data": {
      "image/png": "[encoded data removed]",
      "text/plain": [
       "<Figure size 432x288 with 1 Axes>"
      ]
     },
     "metadata": {
      "needs_background": "light"
     },
     "output_type": "display_data"
    }
   ],
   "source": [
    "sns.countplot(x='isTopPerformer', hue='repository', data=train)"
   ]
  },
  {
   "cell_type": "code",
   "execution_count": 16,
   "metadata": {},
   "outputs": [],
   "source": [
    "train.loc[train['mentorId'].notnull(), 'mentorId'] = 1\n",
    "train['mentorId'] = train['mentorId'].fillna(0)\n",
    "train['mentorId'] = train['mentorId'].astype(int)"
   ]
  },
  {
   "cell_type": "code",
   "execution_count": 17,
   "metadata": {},
   "outputs": [],
   "source": [
    "test.loc[test['mentorId'].notnull(), 'mentorId'] = 1\n",
    "test['mentorId'] = test['mentorId'].fillna(0)\n",
    "test['mentorId'] = test['mentorId'].astype(int)"
   ]
  },
  {
   "cell_type": "code",
   "execution_count": 18,
   "metadata": {},
   "outputs": [
    {
     "name": "stderr",
     "output_type": "stream",
     "text": [
      "/Users/andreishchahlou/opt/anaconda3/lib/python3.7/site-packages/seaborn/_decorators.py:43: FutureWarning: Pass the following variable as a keyword arg: x. From version 0.12, the only valid positional argument will be `data`, and passing other arguments without an explicit keyword will result in an error or misinterpretation.\n",
      "  FutureWarning\n",
      "/Users/andreishchahlou/opt/anaconda3/lib/python3.7/site-packages/seaborn/_decorators.py:43: FutureWarning: Pass the following variable as a keyword arg: x. From version 0.12, the only valid positional argument will be `data`, and passing other arguments without an explicit keyword will result in an error or misinterpretation.\n",
      "  FutureWarning\n",
      "/Users/andreishchahlou/opt/anaconda3/lib/python3.7/site-packages/ipykernel_launcher.py:4: UserWarning: Matplotlib is currently using module://ipykernel.pylab.backend_inline, which is a non-GUI backend, so cannot show the figure.\n",
      "  after removing the cwd from sys.path.\n"
     ]
    },
    {
     "data": {
      "image/png": "[encoded data removed]",
      "text/plain": [
       "<Figure size 432x288 with 2 Axes>"
      ]
     },
     "metadata": {
      "needs_background": "light"
     },
     "output_type": "display_data"
    }
   ],
   "source": [
    "fig, ax =plt.subplots(1,2)\n",
    "sns.countplot(train['mentorId'], ax=ax[0])\n",
    "sns.countplot(test['mentorId'], ax=ax[1])\n",
    "fig.show()"
   ]
  },
  {
   "cell_type": "code",
   "execution_count": 19,
   "metadata": {},
   "outputs": [
    {
     "data": {
      "text/plain": [
       "<AxesSubplot:xlabel='isTopPerformer', ylabel='count'>"
      ]
     },
     "execution_count": 19,
     "metadata": {},
     "output_type": "execute_result"
    },
    {
     "data": {
      "image/png": "[encoded data removed]",
      "text/plain": [
       "<Figure size 432x288 with 1 Axes>"
      ]
     },
     "metadata": {
      "needs_background": "light"
     },
     "output_type": "display_data"
    }
   ],
   "source": [
    "sns.countplot(x='isTopPerformer', hue='mentorId', data=train)"
   ]
  },
  {
   "cell_type": "code",
   "execution_count": 20,
   "metadata": {},
   "outputs": [
    {
     "name": "stderr",
     "output_type": "stream",
     "text": [
      "/Users/andreishchahlou/opt/anaconda3/lib/python3.7/site-packages/seaborn/_decorators.py:43: FutureWarning: Pass the following variable as a keyword arg: x. From version 0.12, the only valid positional argument will be `data`, and passing other arguments without an explicit keyword will result in an error or misinterpretation.\n",
      "  FutureWarning\n",
      "/Users/andreishchahlou/opt/anaconda3/lib/python3.7/site-packages/seaborn/_decorators.py:43: FutureWarning: Pass the following variable as a keyword arg: x. From version 0.12, the only valid positional argument will be `data`, and passing other arguments without an explicit keyword will result in an error or misinterpretation.\n",
      "  FutureWarning\n",
      "/Users/andreishchahlou/opt/anaconda3/lib/python3.7/site-packages/ipykernel_launcher.py:4: UserWarning: Matplotlib is currently using module://ipykernel.pylab.backend_inline, which is a non-GUI backend, so cannot show the figure.\n",
      "  after removing the cwd from sys.path.\n"
     ]
    },
    {
     "data": {
      "image/png": "[encoded data removed]",
      "text/plain": [
       "<Figure size 432x288 with 2 Axes>"
      ]
     },
     "metadata": {
      "needs_background": "light"
     },
     "output_type": "display_data"
    }
   ],
   "source": [
    "fig, ax =plt.subplots(1,2)\n",
    "sns.countplot(train['isFailed'], ax=ax[0])\n",
    "sns.countplot(test['isFailed'], ax=ax[1])\n",
    "fig.show()"
   ]
  },
  {
   "cell_type": "code",
   "execution_count": 21,
   "metadata": {},
   "outputs": [
    {
     "data": {
      "text/plain": [
       "<AxesSubplot:xlabel='isFailed', ylabel='count'>"
      ]
     },
     "execution_count": 21,
     "metadata": {},
     "output_type": "execute_result"
    },
    {
     "data": {
      "image/png": "[encoded data removed]",
      "text/plain": [
       "<Figure size 432x288 with 1 Axes>"
      ]
     },
     "metadata": {
      "needs_background": "light"
     },
     "output_type": "display_data"
    }
   ],
   "source": [
    "sns.countplot(x='isFailed', hue='isTopPerformer', data=train)"
   ]
  },
  {
   "cell_type": "code",
   "execution_count": 22,
   "metadata": {},
   "outputs": [],
   "source": [
    "train.loc[train['isFailed'] == 'f', 'isFailed'] = 0\n",
    "train.loc[train['isFailed'] == 't', 'isFailed'] = 1\n",
    "train['isFailed'] = train['isFailed'].astype(int)"
   ]
  },
  {
   "cell_type": "code",
   "execution_count": 23,
   "metadata": {},
   "outputs": [],
   "source": [
    "test.loc[test['isFailed'] == 'f', 'isFailed'] = 0\n",
    "test.loc[test['isFailed'] == 't', 'isFailed'] = 1\n",
    "test['isFailed'] = test['isFailed'].astype(int)"
   ]
  },
  {
   "cell_type": "markdown",
   "metadata": {},
   "source": [
    "Let's do the same actions with some other features"
   ]
  },
  {
   "cell_type": "code",
   "execution_count": 24,
   "metadata": {},
   "outputs": [],
   "source": [
    "train.loc[train['repositoryLastActivityDate'].notnull(), 'repositoryLastActivityDate'] = 1\n",
    "train['repositoryLastActivityDate'] = train['repositoryLastActivityDate'].fillna(0)"
   ]
  },
  {
   "cell_type": "code",
   "execution_count": 25,
   "metadata": {},
   "outputs": [],
   "source": [
    "test.loc[test['repositoryLastActivityDate'].notnull(), 'repositoryLastActivityDate'] = 1\n",
    "test['repositoryLastActivityDate'] = test['repositoryLastActivityDate'].fillna(0)"
   ]
  },
  {
   "cell_type": "code",
   "execution_count": 26,
   "metadata": {},
   "outputs": [],
   "source": [
    "train.loc[train['educationHistory'] != '[]', 'educationHistory'] = 1\n",
    "train.loc[train['educationHistory'] == '[]', 'educationHistory'] = 0\n",
    "train['educationHistory'] = train['educationHistory'].astype(int)"
   ]
  },
  {
   "cell_type": "code",
   "execution_count": 27,
   "metadata": {},
   "outputs": [],
   "source": [
    "test.loc[test['educationHistory'] != '[]', 'educationHistory'] = 1\n",
    "test.loc[test['educationHistory'] == '[]', 'educationHistory'] = 0\n",
    "test['educationHistory'] = test['educationHistory'].astype(int)"
   ]
  },
  {
   "cell_type": "markdown",
   "metadata": {},
   "source": [
    "\"englishLevel\" is needed more actions:  \n",
    "- define unique values in each dataset \n",
    "- merge unique values   \n",
    "- update values into datasets"
   ]
  },
  {
   "cell_type": "code",
   "execution_count": 28,
   "metadata": {},
   "outputs": [],
   "source": [
    "a = train['englishLevel'].unique().tolist()\n",
    "b = test['englishLevel'].unique().tolist()"
   ]
  },
  {
   "cell_type": "code",
   "execution_count": 29,
   "metadata": {},
   "outputs": [
    {
     "data": {
      "text/plain": [
       "{'3/5',\n",
       " 'A+',\n",
       " 'A-2',\n",
       " 'A0',\n",
       " 'A1',\n",
       " 'A1 (Elementary)',\n",
       " 'A1 Beginner',\n",
       " 'A1 базовый',\n",
       " 'A1+',\n",
       " 'A1-A2',\n",
       " 'A2',\n",
       " 'A2 (pre-intermediate)',\n",
       " 'A2 - B1',\n",
       " 'A2 - Pre-Intermediate',\n",
       " 'A2+',\n",
       " 'A2+ (Streemline certificate 27.12.2019)',\n",
       " 'A2+ - B1',\n",
       " 'A2- B1',\n",
       " 'A2-B1',\n",
       " 'A2/B1',\n",
       " 'Advanced',\n",
       " 'Advanced ',\n",
       " 'B1',\n",
       " 'B1 (Средний)',\n",
       " 'B1+',\n",
       " 'B1-B2',\n",
       " 'B1~B2',\n",
       " 'B2',\n",
       " 'B2 - Upper Intermediate',\n",
       " 'B2+',\n",
       " 'B2-C1',\n",
       " 'B2-С1',\n",
       " 'Beginner',\n",
       " 'C1',\n",
       " 'C1 (IELTS Academic)',\n",
       " 'C1/IELTS 7.0',\n",
       " 'Elementary',\n",
       " 'Elementary English (A2)',\n",
       " 'Good',\n",
       " 'High Proficiency',\n",
       " 'High-intermedite',\n",
       " 'IELTS 5.5 / B2',\n",
       " 'Intermediate',\n",
       " 'Intermediate ',\n",
       " 'Intermediate https://englex.ru/your-level/placement/?answer_id=2614678&hidesend=1',\n",
       " 'Intermediate(B1-2)',\n",
       " 'Intermediate+',\n",
       " 'Intermidiate',\n",
       " 'Native',\n",
       " 'PRE-Intermediate',\n",
       " 'Pre intermediate',\n",
       " 'Pre-Intermediate',\n",
       " 'Pre-Intermediate ',\n",
       " 'Pre-intermediate',\n",
       " 'Pre-intermediate (CEFR A2)',\n",
       " 'Proficient',\n",
       " 'Upper Intermediate ',\n",
       " 'a0',\n",
       " 'a1',\n",
       " 'a1+',\n",
       " 'a2',\n",
       " 'a2+',\n",
       " 'advanced',\n",
       " 'b1',\n",
       " 'b1+',\n",
       " 'b1-b2',\n",
       " 'b2',\n",
       " 'b2+',\n",
       " 'b2-c1',\n",
       " 'beginer',\n",
       " 'c1',\n",
       " 'c1+',\n",
       " 'c2',\n",
       " 'easy',\n",
       " 'elementary',\n",
       " 'intermediate',\n",
       " 'intermediate ',\n",
       " 'intermediate A2',\n",
       " 'intermediate(B1)',\n",
       " nan,\n",
       " 'natalya.sadov@gmail.com',\n",
       " 'pre intermediate',\n",
       " 'pre-intermedia',\n",
       " 'pre-intermediate',\n",
       " 'pre-intermediate a2',\n",
       " 'up-intermediate',\n",
       " 'upper intermediate B1-B2',\n",
       " 'upper-intermediate',\n",
       " 'zero',\n",
       " 'А1',\n",
       " 'А2',\n",
       " 'А2+',\n",
       " 'Базовый',\n",
       " 'В1',\n",
       " 'З',\n",
       " 'Начинающий ',\n",
       " 'С1',\n",
       " 'на уровне чтения ',\n",
       " 'средний'}"
      ]
     },
     "execution_count": 29,
     "metadata": {},
     "output_type": "execute_result"
    }
   ],
   "source": [
    "c = set(a+b)\n",
    "c"
   ]
  },
  {
   "cell_type": "code",
   "execution_count": 30,
   "metadata": {},
   "outputs": [],
   "source": [
    "train_test_data = [train, test]"
   ]
  },
  {
   "cell_type": "code",
   "execution_count": 31,
   "metadata": {},
   "outputs": [],
   "source": [
    "for data in train_test_data:\n",
    "    data['englishLevel'] = data['englishLevel'].fillna('Z')\n",
    "    data['englishLevel'] = data['englishLevel'].replace(['natalya.sadov@gmail.com',\n",
    "                                                         'zero',\n",
    "                                                         'З',\n",
    "                                                        ], 'Z')\n",
    "    data['englishLevel'] = data['englishLevel'].replace(['A+', \n",
    "                                                         'A1 (Elementary)',\n",
    "                                                         'A1 Beginner',\n",
    "                                                         'A1 базовый',\n",
    "                                                         'A1+',\n",
    "                                                         'Beginner',\n",
    "                                                         'Elementary',\n",
    "                                                         'a0',\n",
    "                                                         'a1',\n",
    "                                                         'a1+',\n",
    "                                                         'beginer',\n",
    "                                                         'easy',\n",
    "                                                         'elementary',\n",
    "                                                         'А1',\n",
    "                                                         'Базовый',\n",
    "                                                         'Начинающий ',\n",
    "                                                         'на уровне чтения ',\n",
    "                                                         'A0',\n",
    "                                                        ], 'A1')\n",
    "    data['englishLevel'] = data['englishLevel'].replace(['A-2',\n",
    "                                                         'A1-A2',\n",
    "                                                         'A2 (pre-intermediate)',\n",
    "                                                         'A2 - Pre-Intermediate',\n",
    "                                                         'A2+',\n",
    "                                                         'A2+ (Streemline certificate 27.12.2019)',\n",
    "                                                         'A2+ - B1',\n",
    "                                                         'Elementary English (A2)',\n",
    "                                                         'PRE-Intermediate',\n",
    "                                                         'Pre intermediate',\n",
    "                                                         'Pre-Intermediate',\n",
    "                                                         'Pre-Intermediate ',\n",
    "                                                         'Pre-intermediate',\n",
    "                                                         'Pre-intermediate (CEFR A2)',\n",
    "                                                         'a2',\n",
    "                                                         'a2+',\n",
    "                                                         'intermediate A2',\n",
    "                                                         'pre intermediate',\n",
    "                                                         'pre-intermedia',\n",
    "                                                         'pre-intermediate',\n",
    "                                                         'pre-intermediate a2',\n",
    "                                                         'А2',\n",
    "                                                         'А2+',\n",
    "                                                        ], 'A2')\n",
    "    data['englishLevel'] = data['englishLevel'].replace(['3/5',\n",
    "                                                         'A2 - B1',\n",
    "                                                         'A2- B1',\n",
    "                                                         'A2-B1',\n",
    "                                                         'A2/B1',\n",
    "                                                         'B1 (Средний)',\n",
    "                                                         'B1+',\n",
    "                                                         'Good',\n",
    "                                                         'Intermediate',\n",
    "                                                         'Intermediate ',\n",
    "                                                         'Intermediate https://englex.ru/your-level/placement/?answer_id=2614678&hidesend=1',\n",
    "                                                         'Intermediate(B1-2)',\n",
    "                                                         'Intermediate+',\n",
    "                                                         'Intermidiate',\n",
    "                                                         'b1',\n",
    "                                                         'b1+',\n",
    "                                                         'intermediate',\n",
    "                                                         'intermediate ',\n",
    "                                                         'intermediate(B1)',\n",
    "                                                         'В1',\n",
    "                                                         'средний',\n",
    "                                                        ], 'B1')\n",
    "    data['englishLevel'] = data['englishLevel'].replace(['B1-B2',\n",
    "                                                         'B1~B2',\n",
    "                                                         'B2 - Upper Intermediate',\n",
    "                                                         'B2+',\n",
    "                                                         'High-intermedite',\n",
    "                                                         'IELTS 5.5 / B2',\n",
    "                                                         'Upper Intermediate ',\n",
    "                                                         'b1-b2',\n",
    "                                                         'b2',\n",
    "                                                         'b2+',\n",
    "                                                         'up-intermediate',\n",
    "                                                         'upper intermediate B1-B2',\n",
    "                                                         'upper-intermediate',\n",
    "                                                        ],\n",
    "                                                        'B2')\n",
    "    data['englishLevel'] = data['englishLevel'].replace(['Advanced',\n",
    "                                                         'Advanced ',\n",
    "                                                         'B2-C1',\n",
    "                                                         'B2-С1',\n",
    "                                                         'C1 (IELTS Academic)',\n",
    "                                                         'C1/IELTS 7.0',\n",
    "                                                         'advanced',\n",
    "                                                         'b2-c1',\n",
    "                                                         'c1',\n",
    "                                                         'c1+',\n",
    "                                                         'С1',\n",
    "                                                        ], 'C1')\n",
    "    data['englishLevel'] = data['englishLevel'].replace(['High Proficiency',\n",
    "                                                         'Native',\n",
    "                                                         'Proficient',\n",
    "                                                         'c2',\n",
    "                                                        ], 'C2')"
   ]
  },
  {
   "cell_type": "code",
   "execution_count": 32,
   "metadata": {},
   "outputs": [
    {
     "data": {
      "text/plain": [
       "array(['Z', 'B1', 'A2', 'A1', 'B2', 'C1', 'C2'], dtype=object)"
      ]
     },
     "execution_count": 32,
     "metadata": {},
     "output_type": "execute_result"
    }
   ],
   "source": [
    "train['englishLevel'].unique()"
   ]
  },
  {
   "cell_type": "code",
   "execution_count": 33,
   "metadata": {},
   "outputs": [
    {
     "data": {
      "text/plain": [
       "array(['Z', 'A2', 'A1', 'B1', 'B2', 'C1', 'C2'], dtype=object)"
      ]
     },
     "execution_count": 33,
     "metadata": {},
     "output_type": "execute_result"
    }
   ],
   "source": [
    "test['englishLevel'].unique()"
   ]
  },
  {
   "cell_type": "code",
   "execution_count": 34,
   "metadata": {},
   "outputs": [
    {
     "data": {
      "text/html": [
       "<div>\n",
       "<style scoped>\n",
       "    .dataframe tbody tr th:only-of-type {\n",
       "        vertical-align: middle;\n",
       "    }\n",
       "\n",
       "    .dataframe tbody tr th {\n",
       "        vertical-align: top;\n",
       "    }\n",
       "\n",
       "    .dataframe thead th {\n",
       "        text-align: right;\n",
       "    }\n",
       "</style>\n",
       "<table border=\"1\" class=\"dataframe\">\n",
       "  <thead>\n",
       "    <tr style=\"text-align: right;\">\n",
       "      <th>isTopPerformer</th>\n",
       "      <th>False</th>\n",
       "      <th>True</th>\n",
       "    </tr>\n",
       "    <tr>\n",
       "      <th>englishLevel</th>\n",
       "      <th></th>\n",
       "      <th></th>\n",
       "    </tr>\n",
       "  </thead>\n",
       "  <tbody>\n",
       "    <tr>\n",
       "      <th>A1</th>\n",
       "      <td>985</td>\n",
       "      <td>290</td>\n",
       "    </tr>\n",
       "    <tr>\n",
       "      <th>A2</th>\n",
       "      <td>1274</td>\n",
       "      <td>709</td>\n",
       "    </tr>\n",
       "    <tr>\n",
       "      <th>B1</th>\n",
       "      <td>898</td>\n",
       "      <td>494</td>\n",
       "    </tr>\n",
       "    <tr>\n",
       "      <th>B2</th>\n",
       "      <td>381</td>\n",
       "      <td>203</td>\n",
       "    </tr>\n",
       "    <tr>\n",
       "      <th>C1</th>\n",
       "      <td>100</td>\n",
       "      <td>55</td>\n",
       "    </tr>\n",
       "    <tr>\n",
       "      <th>C2</th>\n",
       "      <td>18</td>\n",
       "      <td>3</td>\n",
       "    </tr>\n",
       "    <tr>\n",
       "      <th>Z</th>\n",
       "      <td>4236</td>\n",
       "      <td>825</td>\n",
       "    </tr>\n",
       "  </tbody>\n",
       "</table>\n",
       "</div>"
      ],
      "text/plain": [
       "isTopPerformer  False  True \n",
       "englishLevel                \n",
       "A1                985    290\n",
       "A2               1274    709\n",
       "B1                898    494\n",
       "B2                381    203\n",
       "C1                100     55\n",
       "C2                 18      3\n",
       "Z                4236    825"
      ]
     },
     "execution_count": 34,
     "metadata": {},
     "output_type": "execute_result"
    }
   ],
   "source": [
    "pd.crosstab(train['englishLevel'], train['isTopPerformer'])"
   ]
  },
  {
   "cell_type": "code",
   "execution_count": 35,
   "metadata": {},
   "outputs": [],
   "source": [
    "#level = {'Z':0, 'A1':1, 'A2':2, 'B1':3, 'B2':4, 'C1':5, 'C2':6}\n",
    "level = {'Z':0, 'A1':0, 'A2':0, 'B1':1, 'B2':1, 'C1':1, 'C2':0}\n",
    "for data in train_test_data:\n",
    "    data['englishLevel'] = data['englishLevel'].map(level).astype(int)"
   ]
  },
  {
   "cell_type": "code",
   "execution_count": 36,
   "metadata": {},
   "outputs": [
    {
     "data": {
      "text/plain": [
       "array([0, 1])"
      ]
     },
     "execution_count": 36,
     "metadata": {},
     "output_type": "execute_result"
    }
   ],
   "source": [
    "train['englishLevel'].unique()"
   ]
  },
  {
   "cell_type": "code",
   "execution_count": 37,
   "metadata": {},
   "outputs": [
    {
     "data": {
      "text/plain": [
       "array([0, 1])"
      ]
     },
     "execution_count": 37,
     "metadata": {},
     "output_type": "execute_result"
    }
   ],
   "source": [
    "test['englishLevel'].unique()"
   ]
  },
  {
   "cell_type": "markdown",
   "metadata": {},
   "source": [
    "Let's look through courses data"
   ]
  },
  {
   "cell_type": "code",
   "execution_count": 38,
   "metadata": {},
   "outputs": [
    {
     "data": {
      "text/plain": [
       "array([ 1,  2,  4,  5,  6,  9, 10, 11, 12, 13, 14, 16, 17, 18, 19, 20, 21,\n",
       "       23, 27])"
      ]
     },
     "execution_count": 38,
     "metadata": {},
     "output_type": "execute_result"
    }
   ],
   "source": [
    "np.sort(train['courseId'].unique())"
   ]
  },
  {
   "cell_type": "code",
   "execution_count": 39,
   "metadata": {},
   "outputs": [
    {
     "data": {
      "text/plain": [
       "<AxesSubplot:xlabel='courseId', ylabel='count'>"
      ]
     },
     "execution_count": 39,
     "metadata": {},
     "output_type": "execute_result"
    },
    {
     "data": {
      "image/png": "[encoded data removed]",
      "text/plain": [
       "<Figure size 432x288 with 1 Axes>"
      ]
     },
     "metadata": {
      "needs_background": "light"
     },
     "output_type": "display_data"
    }
   ],
   "source": [
    "sns.countplot(x='courseId', data=train)"
   ]
  },
  {
   "cell_type": "code",
   "execution_count": 40,
   "metadata": {},
   "outputs": [
    {
     "data": {
      "text/plain": [
       "<AxesSubplot:xlabel='courseId', ylabel='count'>"
      ]
     },
     "execution_count": 40,
     "metadata": {},
     "output_type": "execute_result"
    },
    {
     "data": {
      "image/png": "[encoded data removed]",
      "text/plain": [
       "<Figure size 432x288 with 1 Axes>"
      ]
     },
     "metadata": {
      "needs_background": "light"
     },
     "output_type": "display_data"
    }
   ],
   "source": [
    "sns.countplot(x='courseId', hue='isTopPerformer', data=train)"
   ]
  },
  {
   "cell_type": "code",
   "execution_count": 41,
   "metadata": {},
   "outputs": [
    {
     "data": {
      "text/plain": [
       "array([ 1,  2,  4,  5,  6,  9, 10, 11, 12, 13, 14, 16, 17, 18, 19, 20, 21,\n",
       "       23, 27, 28, 29])"
      ]
     },
     "execution_count": 41,
     "metadata": {},
     "output_type": "execute_result"
    }
   ],
   "source": [
    "np.sort(test['courseId'].unique())"
   ]
  },
  {
   "cell_type": "code",
   "execution_count": 42,
   "metadata": {},
   "outputs": [
    {
     "data": {
      "text/plain": [
       "<AxesSubplot:xlabel='courseId', ylabel='count'>"
      ]
     },
     "execution_count": 42,
     "metadata": {},
     "output_type": "execute_result"
    },
    {
     "data": {
      "image/png": "[encoded data removed]",
      "text/plain": [
       "<Figure size 432x288 with 1 Axes>"
      ]
     },
     "metadata": {
      "needs_background": "light"
     },
     "output_type": "display_data"
    }
   ],
   "source": [
    "sns.countplot(x='courseId', data=test)"
   ]
  },
  {
   "cell_type": "markdown",
   "metadata": {},
   "source": [
    "Let's leave courses with good attention (number of pupils is near 50)"
   ]
  },
  {
   "cell_type": "code",
   "execution_count": 43,
   "metadata": {},
   "outputs": [],
   "source": [
    "train = train.query('courseId in [1,2,9,11,13,16,17,18,19,20,21]')"
   ]
  },
  {
   "cell_type": "markdown",
   "metadata": {},
   "source": [
    "Now let's take some inforamtion from 'Course' file, do some updates and add this data to initial datasets."
   ]
  },
  {
   "cell_type": "code",
   "execution_count": 44,
   "metadata": {},
   "outputs": [],
   "source": [
    "course = pd.read_csv('data/course.csv')\n",
    "course_temp = course[['courseId', 'primarySkillId', 'alias', 'completed']]"
   ]
  },
  {
   "cell_type": "code",
   "execution_count": 45,
   "metadata": {},
   "outputs": [
    {
     "name": "stderr",
     "output_type": "stream",
     "text": [
      "/Users/andreishchahlou/opt/anaconda3/lib/python3.7/site-packages/pandas/core/indexing.py:965: SettingWithCopyWarning: \n",
      "A value is trying to be set on a copy of a slice from a DataFrame.\n",
      "Try using .loc[row_indexer,col_indexer] = value instead\n",
      "\n",
      "See the caveats in the documentation: https://pandas.pydata.org/pandas-docs/stable/user_guide/indexing.html#returning-a-view-versus-a-copy\n",
      "  self.obj[item] = s\n"
     ]
    }
   ],
   "source": [
    "for i in ['test-course', 'ios-2020', 'android-2020', 'js-fundamentals']:\n",
    "    course_temp.loc[course_temp['alias'] == i, 'alias'] = i+'-q'"
   ]
  },
  {
   "cell_type": "code",
   "execution_count": 46,
   "metadata": {},
   "outputs": [],
   "source": [
    "course_temp.loc[course_temp['alias'] == 'rs-uz-2019-q3', 'alias'] = 'rs-2019-q3'\n",
    "course_temp.loc[course_temp['alias'] == 'rs-st-2019-q1', 'alias'] = 'rs-2019-q1'\n",
    "course_temp.loc[course_temp['alias'] == 'rss-pl-2020-q1', 'alias'] = 'rss-2020-q1'"
   ]
  },
  {
   "cell_type": "code",
   "execution_count": 47,
   "metadata": {},
   "outputs": [
    {
     "name": "stderr",
     "output_type": "stream",
     "text": [
      "/Users/andreishchahlou/opt/anaconda3/lib/python3.7/site-packages/ipykernel_launcher.py:1: SettingWithCopyWarning: \n",
      "A value is trying to be set on a copy of a slice from a DataFrame.\n",
      "Try using .loc[row_indexer,col_indexer] = value instead\n",
      "\n",
      "See the caveats in the documentation: https://pandas.pydata.org/pandas-docs/stable/user_guide/indexing.html#returning-a-view-versus-a-copy\n",
      "  \"\"\"Entry point for launching an IPython kernel.\n",
      "/Users/andreishchahlou/opt/anaconda3/lib/python3.7/site-packages/ipykernel_launcher.py:2: SettingWithCopyWarning: \n",
      "A value is trying to be set on a copy of a slice from a DataFrame.\n",
      "Try using .loc[row_indexer,col_indexer] = value instead\n",
      "\n",
      "See the caveats in the documentation: https://pandas.pydata.org/pandas-docs/stable/user_guide/indexing.html#returning-a-view-versus-a-copy\n",
      "  \n"
     ]
    }
   ],
   "source": [
    "course_temp['skill'] = course_temp['alias'].apply(lambda x: x.split('-')[0])\n",
    "course_temp['quarter'] = course_temp['alias'].apply(lambda x: x.split('-')[2])"
   ]
  },
  {
   "cell_type": "code",
   "execution_count": 48,
   "metadata": {},
   "outputs": [
    {
     "name": "stderr",
     "output_type": "stream",
     "text": [
      "/Users/andreishchahlou/opt/anaconda3/lib/python3.7/site-packages/ipykernel_launcher.py:6: SettingWithCopyWarning: \n",
      "A value is trying to be set on a copy of a slice from a DataFrame.\n",
      "Try using .loc[row_indexer,col_indexer] = value instead\n",
      "\n",
      "See the caveats in the documentation: https://pandas.pydata.org/pandas-docs/stable/user_guide/indexing.html#returning-a-view-versus-a-copy\n",
      "  \n"
     ]
    }
   ],
   "source": [
    "primSkill = {'ios-obj-c' : 0,\n",
    "             'android-kotlin': 0,\n",
    "             'nodejs': 0,\n",
    "             'javascript': 1\n",
    "            }\n",
    "course_temp['primarySkillId'] = course_temp['primarySkillId'].map(primSkill).astype(int)"
   ]
  },
  {
   "cell_type": "code",
   "execution_count": 49,
   "metadata": {},
   "outputs": [
    {
     "name": "stderr",
     "output_type": "stream",
     "text": [
      "/Users/andreishchahlou/opt/anaconda3/lib/python3.7/site-packages/ipykernel_launcher.py:12: SettingWithCopyWarning: \n",
      "A value is trying to be set on a copy of a slice from a DataFrame.\n",
      "Try using .loc[row_indexer,col_indexer] = value instead\n",
      "\n",
      "See the caveats in the documentation: https://pandas.pydata.org/pandas-docs/stable/user_guide/indexing.html#returning-a-view-versus-a-copy\n",
      "  if sys.path[0] == '':\n"
     ]
    }
   ],
   "source": [
    "skill_repl = {'react': '0',\n",
    "              'test': '1',\n",
    "              'ios': '0',\n",
    "              'rs': '1',\n",
    "              'android': '0',\n",
    "              'st': '1',\n",
    "              'angular': '0',\n",
    "              'js': '1',\n",
    "              'rss': '1',\n",
    "              'nodejs': '0',\n",
    "             }\n",
    "course_temp['skill'] = course_temp['skill'].map(skill_repl).astype(int)"
   ]
  },
  {
   "cell_type": "code",
   "execution_count": 50,
   "metadata": {},
   "outputs": [
    {
     "name": "stderr",
     "output_type": "stream",
     "text": [
      "/Users/andreishchahlou/opt/anaconda3/lib/python3.7/site-packages/ipykernel_launcher.py:7: SettingWithCopyWarning: \n",
      "A value is trying to be set on a copy of a slice from a DataFrame.\n",
      "Try using .loc[row_indexer,col_indexer] = value instead\n",
      "\n",
      "See the caveats in the documentation: https://pandas.pydata.org/pandas-docs/stable/user_guide/indexing.html#returning-a-view-versus-a-copy\n",
      "  import sys\n"
     ]
    }
   ],
   "source": [
    "quarter_repl = {'q': 0,\n",
    "                'Q1': 1,\n",
    "                'q1': 1,\n",
    "                'Q3': 2,\n",
    "                'q3': 2\n",
    "               }\n",
    "course_temp['quarter'] = course_temp['quarter'].map(quarter_repl).astype(int)"
   ]
  },
  {
   "cell_type": "code",
   "execution_count": 51,
   "metadata": {},
   "outputs": [
    {
     "name": "stderr",
     "output_type": "stream",
     "text": [
      "/Users/andreishchahlou/opt/anaconda3/lib/python3.7/site-packages/ipykernel_launcher.py:3: SettingWithCopyWarning: \n",
      "A value is trying to be set on a copy of a slice from a DataFrame.\n",
      "Try using .loc[row_indexer,col_indexer] = value instead\n",
      "\n",
      "See the caveats in the documentation: https://pandas.pydata.org/pandas-docs/stable/user_guide/indexing.html#returning-a-view-versus-a-copy\n",
      "  This is separate from the ipykernel package so we can avoid doing imports until\n"
     ]
    }
   ],
   "source": [
    "course_temp.loc[course_temp['completed'] == 'f', 'completed'] = 0\n",
    "course_temp.loc[course_temp['completed'] == 't', 'completed'] = 1\n",
    "course_temp['completed'] = course_temp['completed'].astype(int)"
   ]
  },
  {
   "cell_type": "code",
   "execution_count": 52,
   "metadata": {},
   "outputs": [],
   "source": [
    "train = pd.merge(train,course_temp.drop(['alias'], axis=1), on=['courseId'])\n",
    "test = pd.merge(test,course_temp.drop(['alias'], axis=1), on=['courseId'])"
   ]
  },
  {
   "cell_type": "code",
   "execution_count": 53,
   "metadata": {},
   "outputs": [
    {
     "data": {
      "text/plain": [
       "((10143, 27), (2991, 26))"
      ]
     },
     "execution_count": 53,
     "metadata": {},
     "output_type": "execute_result"
    }
   ],
   "source": [
    "train.shape, test.shape"
   ]
  },
  {
   "cell_type": "markdown",
   "metadata": {},
   "source": [
    "Now let's take some information from tasks and tasks-results"
   ]
  },
  {
   "cell_type": "code",
   "execution_count": 54,
   "metadata": {},
   "outputs": [],
   "source": [
    "task = pd.read_csv('data/task.csv')"
   ]
  },
  {
   "cell_type": "code",
   "execution_count": 55,
   "metadata": {},
   "outputs": [],
   "source": [
    "task_results = pd.read_csv('data/task_results.csv')"
   ]
  },
  {
   "cell_type": "code",
   "execution_count": 56,
   "metadata": {},
   "outputs": [],
   "source": [
    "task_temp = task[['courseId', 'courseTaskId', 'maxScore']]"
   ]
  },
  {
   "cell_type": "markdown",
   "metadata": {},
   "source": [
    "Some tasks don't have maxScore value. Let's fill them by max score that was achieved by students"
   ]
  },
  {
   "cell_type": "code",
   "execution_count": 57,
   "metadata": {},
   "outputs": [],
   "source": [
    "for i in [1, 2, 4, 5, 6, 9, 10]:\n",
    "    for j in task_temp[task_temp['courseId'] == i]['courseTaskId'].tolist():\n",
    "        if np.isnan(task_temp['maxScore'][(task_temp['courseId'] == i) & (task_temp['courseTaskId'] == j)].item()):\n",
    "            task_temp.loc[(task_temp['courseId'] == i) & (task_temp['courseTaskId'] == j), 'maxScore'] = \\\n",
    "                np.max(task_results[task_results['courseTaskId'] == j]['score'].unique())"
   ]
  },
  {
   "cell_type": "markdown",
   "metadata": {},
   "source": [
    "Find the total Score of each course"
   ]
  },
  {
   "cell_type": "code",
   "execution_count": 58,
   "metadata": {},
   "outputs": [],
   "source": [
    "task_temp_sum = task_temp.groupby(['courseId']).agg({'maxScore': 'sum'}).reset_index()"
   ]
  },
  {
   "cell_type": "markdown",
   "metadata": {},
   "source": [
    "And find the number of tasks for each course"
   ]
  },
  {
   "cell_type": "code",
   "execution_count": 59,
   "metadata": {},
   "outputs": [],
   "source": [
    "task_temp_sum['len_tasks'] = task_temp.groupby(['courseId']).agg({'courseTaskId': 'count'})['courseTaskId'].tolist()"
   ]
  },
  {
   "cell_type": "code",
   "execution_count": 60,
   "metadata": {},
   "outputs": [
    {
     "data": {
      "text/html": [
       "<div>\n",
       "<style scoped>\n",
       "    .dataframe tbody tr th:only-of-type {\n",
       "        vertical-align: middle;\n",
       "    }\n",
       "\n",
       "    .dataframe tbody tr th {\n",
       "        vertical-align: top;\n",
       "    }\n",
       "\n",
       "    .dataframe thead th {\n",
       "        text-align: right;\n",
       "    }\n",
       "</style>\n",
       "<table border=\"1\" class=\"dataframe\">\n",
       "  <thead>\n",
       "    <tr style=\"text-align: right;\">\n",
       "      <th></th>\n",
       "      <th>courseId</th>\n",
       "      <th>maxScore</th>\n",
       "      <th>len_tasks</th>\n",
       "    </tr>\n",
       "  </thead>\n",
       "  <tbody>\n",
       "    <tr>\n",
       "      <th>0</th>\n",
       "      <td>1</td>\n",
       "      <td>2027.0</td>\n",
       "      <td>15</td>\n",
       "    </tr>\n",
       "    <tr>\n",
       "      <th>1</th>\n",
       "      <td>2</td>\n",
       "      <td>1781.0</td>\n",
       "      <td>15</td>\n",
       "    </tr>\n",
       "    <tr>\n",
       "      <th>2</th>\n",
       "      <td>4</td>\n",
       "      <td>2674.0</td>\n",
       "      <td>18</td>\n",
       "    </tr>\n",
       "    <tr>\n",
       "      <th>3</th>\n",
       "      <td>5</td>\n",
       "      <td>1192792.0</td>\n",
       "      <td>17</td>\n",
       "    </tr>\n",
       "    <tr>\n",
       "      <th>4</th>\n",
       "      <td>6</td>\n",
       "      <td>558.0</td>\n",
       "      <td>6</td>\n",
       "    </tr>\n",
       "    <tr>\n",
       "      <th>5</th>\n",
       "      <td>9</td>\n",
       "      <td>1960.0</td>\n",
       "      <td>16</td>\n",
       "    </tr>\n",
       "    <tr>\n",
       "      <th>6</th>\n",
       "      <td>10</td>\n",
       "      <td>1250.0</td>\n",
       "      <td>12</td>\n",
       "    </tr>\n",
       "    <tr>\n",
       "      <th>7</th>\n",
       "      <td>11</td>\n",
       "      <td>4228.0</td>\n",
       "      <td>36</td>\n",
       "    </tr>\n",
       "    <tr>\n",
       "      <th>8</th>\n",
       "      <td>12</td>\n",
       "      <td>1290.0</td>\n",
       "      <td>13</td>\n",
       "    </tr>\n",
       "    <tr>\n",
       "      <th>9</th>\n",
       "      <td>13</td>\n",
       "      <td>6083.0</td>\n",
       "      <td>41</td>\n",
       "    </tr>\n",
       "    <tr>\n",
       "      <th>10</th>\n",
       "      <td>14</td>\n",
       "      <td>1760.0</td>\n",
       "      <td>13</td>\n",
       "    </tr>\n",
       "    <tr>\n",
       "      <th>11</th>\n",
       "      <td>16</td>\n",
       "      <td>860.0</td>\n",
       "      <td>4</td>\n",
       "    </tr>\n",
       "    <tr>\n",
       "      <th>12</th>\n",
       "      <td>17</td>\n",
       "      <td>730.0</td>\n",
       "      <td>6</td>\n",
       "    </tr>\n",
       "    <tr>\n",
       "      <th>13</th>\n",
       "      <td>18</td>\n",
       "      <td>1000.0</td>\n",
       "      <td>10</td>\n",
       "    </tr>\n",
       "    <tr>\n",
       "      <th>14</th>\n",
       "      <td>19</td>\n",
       "      <td>10700.0</td>\n",
       "      <td>12</td>\n",
       "    </tr>\n",
       "    <tr>\n",
       "      <th>15</th>\n",
       "      <td>20</td>\n",
       "      <td>1965.0</td>\n",
       "      <td>20</td>\n",
       "    </tr>\n",
       "    <tr>\n",
       "      <th>16</th>\n",
       "      <td>21</td>\n",
       "      <td>600.0</td>\n",
       "      <td>5</td>\n",
       "    </tr>\n",
       "    <tr>\n",
       "      <th>17</th>\n",
       "      <td>23</td>\n",
       "      <td>400.0</td>\n",
       "      <td>4</td>\n",
       "    </tr>\n",
       "    <tr>\n",
       "      <th>18</th>\n",
       "      <td>27</td>\n",
       "      <td>1203.0</td>\n",
       "      <td>8</td>\n",
       "    </tr>\n",
       "    <tr>\n",
       "      <th>19</th>\n",
       "      <td>28</td>\n",
       "      <td>250.0</td>\n",
       "      <td>3</td>\n",
       "    </tr>\n",
       "    <tr>\n",
       "      <th>20</th>\n",
       "      <td>29</td>\n",
       "      <td>264.0</td>\n",
       "      <td>2</td>\n",
       "    </tr>\n",
       "  </tbody>\n",
       "</table>\n",
       "</div>"
      ],
      "text/plain": [
       "    courseId   maxScore  len_tasks\n",
       "0          1     2027.0         15\n",
       "1          2     1781.0         15\n",
       "2          4     2674.0         18\n",
       "3          5  1192792.0         17\n",
       "4          6      558.0          6\n",
       "5          9     1960.0         16\n",
       "6         10     1250.0         12\n",
       "7         11     4228.0         36\n",
       "8         12     1290.0         13\n",
       "9         13     6083.0         41\n",
       "10        14     1760.0         13\n",
       "11        16      860.0          4\n",
       "12        17      730.0          6\n",
       "13        18     1000.0         10\n",
       "14        19    10700.0         12\n",
       "15        20     1965.0         20\n",
       "16        21      600.0          5\n",
       "17        23      400.0          4\n",
       "18        27     1203.0          8\n",
       "19        28      250.0          3\n",
       "20        29      264.0          2"
      ]
     },
     "execution_count": 60,
     "metadata": {},
     "output_type": "execute_result"
    }
   ],
   "source": [
    "task_temp_sum"
   ]
  },
  {
   "cell_type": "markdown",
   "metadata": {},
   "source": [
    "Let's add it to the initial datasets"
   ]
  },
  {
   "cell_type": "code",
   "execution_count": 61,
   "metadata": {},
   "outputs": [],
   "source": [
    "train = pd.merge(train,task_temp_sum, on=['courseId'])\n",
    "test = pd.merge(test,task_temp_sum, on=['courseId'])"
   ]
  },
  {
   "cell_type": "code",
   "execution_count": 62,
   "metadata": {},
   "outputs": [
    {
     "data": {
      "text/plain": [
       "((10143, 29), (2991, 28))"
      ]
     },
     "execution_count": 62,
     "metadata": {},
     "output_type": "execute_result"
    }
   ],
   "source": [
    "train.shape, test.shape"
   ]
  },
  {
   "cell_type": "markdown",
   "metadata": {},
   "source": [
    "Now let's take the data about student's results: score and passed tasks"
   ]
  },
  {
   "cell_type": "code",
   "execution_count": 63,
   "metadata": {},
   "outputs": [],
   "source": [
    "task_results_temp = task_results[['studentId', 'courseTaskId', 'score']]"
   ]
  },
  {
   "cell_type": "code",
   "execution_count": 64,
   "metadata": {},
   "outputs": [
    {
     "data": {
      "text/plain": [
       "(94262, 10)"
      ]
     },
     "execution_count": 64,
     "metadata": {},
     "output_type": "execute_result"
    }
   ],
   "source": [
    "task_results.shape"
   ]
  },
  {
   "cell_type": "code",
   "execution_count": 65,
   "metadata": {},
   "outputs": [],
   "source": [
    "task_results_temp = pd.merge(task_results_temp, task_temp[['courseTaskId', 'courseId']], on=['courseTaskId'])"
   ]
  },
  {
   "cell_type": "code",
   "execution_count": 66,
   "metadata": {},
   "outputs": [
    {
     "data": {
      "text/plain": [
       "(94262, 4)"
      ]
     },
     "execution_count": 66,
     "metadata": {},
     "output_type": "execute_result"
    }
   ],
   "source": [
    "task_results_temp.shape"
   ]
  },
  {
   "cell_type": "code",
   "execution_count": 67,
   "metadata": {},
   "outputs": [
    {
     "data": {
      "text/plain": [
       "8430"
      ]
     },
     "execution_count": 67,
     "metadata": {},
     "output_type": "execute_result"
    }
   ],
   "source": [
    "task_results_temp['studentId'].nunique()"
   ]
  },
  {
   "cell_type": "code",
   "execution_count": 68,
   "metadata": {},
   "outputs": [],
   "source": [
    "task_results_temp_sum = task_results_temp.groupby(['studentId', 'courseId']).agg({'score': 'sum'}).reset_index()"
   ]
  },
  {
   "cell_type": "code",
   "execution_count": 69,
   "metadata": {},
   "outputs": [],
   "source": [
    "task_results_temp_sum['number_tasks'] = task_results_temp.groupby(['studentId', 'courseId']).agg({'courseTaskId': 'count'})['courseTaskId'].tolist()"
   ]
  },
  {
   "cell_type": "code",
   "execution_count": 81,
   "metadata": {},
   "outputs": [
    {
     "data": {
      "text/html": [
       "<div>\n",
       "<style scoped>\n",
       "    .dataframe tbody tr th:only-of-type {\n",
       "        vertical-align: middle;\n",
       "    }\n",
       "\n",
       "    .dataframe tbody tr th {\n",
       "        vertical-align: top;\n",
       "    }\n",
       "\n",
       "    .dataframe thead th {\n",
       "        text-align: right;\n",
       "    }\n",
       "</style>\n",
       "<table border=\"1\" class=\"dataframe\">\n",
       "  <thead>\n",
       "    <tr style=\"text-align: right;\">\n",
       "      <th></th>\n",
       "      <th>studentId</th>\n",
       "      <th>courseId</th>\n",
       "      <th>score</th>\n",
       "      <th>number_tasks</th>\n",
       "    </tr>\n",
       "  </thead>\n",
       "  <tbody>\n",
       "    <tr>\n",
       "      <th>0</th>\n",
       "      <td>1</td>\n",
       "      <td>1</td>\n",
       "      <td>1544</td>\n",
       "      <td>12</td>\n",
       "    </tr>\n",
       "    <tr>\n",
       "      <th>1</th>\n",
       "      <td>2</td>\n",
       "      <td>1</td>\n",
       "      <td>590</td>\n",
       "      <td>6</td>\n",
       "    </tr>\n",
       "    <tr>\n",
       "      <th>2</th>\n",
       "      <td>3</td>\n",
       "      <td>1</td>\n",
       "      <td>0</td>\n",
       "      <td>2</td>\n",
       "    </tr>\n",
       "    <tr>\n",
       "      <th>3</th>\n",
       "      <td>4</td>\n",
       "      <td>1</td>\n",
       "      <td>255</td>\n",
       "      <td>5</td>\n",
       "    </tr>\n",
       "    <tr>\n",
       "      <th>4</th>\n",
       "      <td>5</td>\n",
       "      <td>1</td>\n",
       "      <td>8</td>\n",
       "      <td>2</td>\n",
       "    </tr>\n",
       "  </tbody>\n",
       "</table>\n",
       "</div>"
      ],
      "text/plain": [
       "   studentId  courseId  score  number_tasks\n",
       "0          1         1   1544            12\n",
       "1          2         1    590             6\n",
       "2          3         1      0             2\n",
       "3          4         1    255             5\n",
       "4          5         1      8             2"
      ]
     },
     "execution_count": 81,
     "metadata": {},
     "output_type": "execute_result"
    }
   ],
   "source": [
    "task_results_temp_sum.head()"
   ]
  },
  {
   "cell_type": "markdown",
   "metadata": {},
   "source": [
    "Some students don't have scores. So, let's find these students and fill Nan values by 0"
   ]
  },
  {
   "cell_type": "code",
   "execution_count": 70,
   "metadata": {},
   "outputs": [],
   "source": [
    "train_st = train['studentId'].unique().tolist()\n",
    "rez_st = task_results['studentId'].unique().tolist()\n",
    "train_empty = list(set(train_st) - set(rez_st))"
   ]
  },
  {
   "cell_type": "code",
   "execution_count": 71,
   "metadata": {},
   "outputs": [],
   "source": [
    "train_course_empty = []\n",
    "for i in train_empty:\n",
    "    train_course_empty.append(train.loc[train['studentId'] == i]['courseId'].item())"
   ]
  },
  {
   "cell_type": "code",
   "execution_count": 72,
   "metadata": {},
   "outputs": [],
   "source": [
    "train_score_empty = [0 for i in range(len(train_empty))]\n",
    "train_tasks_empty = [0 for i in range(len(train_empty))]"
   ]
  },
  {
   "cell_type": "code",
   "execution_count": 73,
   "metadata": {},
   "outputs": [],
   "source": [
    "train_empty_df = pd.DataFrame({'studentId': train_empty, \n",
    "                              'courseId': train_course_empty,\n",
    "                              'score': train_score_empty,\n",
    "                              'number_tasks': train_tasks_empty\n",
    "                             })"
   ]
  },
  {
   "cell_type": "code",
   "execution_count": 74,
   "metadata": {},
   "outputs": [],
   "source": [
    "task_results_temp_sum = pd.concat([task_results_temp_sum, train_empty_df], ignore_index=True)"
   ]
  },
  {
   "cell_type": "code",
   "execution_count": 75,
   "metadata": {},
   "outputs": [],
   "source": [
    "test_st = test['studentId'].unique().tolist()\n",
    "test_empty = list(set(test_st) - set(rez_st))"
   ]
  },
  {
   "cell_type": "code",
   "execution_count": 76,
   "metadata": {},
   "outputs": [],
   "source": [
    "test_course_empty = []\n",
    "for i in test_empty:\n",
    "    test_course_empty.append(test.loc[test['studentId'] == i]['courseId'].item())"
   ]
  },
  {
   "cell_type": "code",
   "execution_count": 77,
   "metadata": {},
   "outputs": [],
   "source": [
    "test_score_empty = [0 for i in range(len(test_empty))]\n",
    "test_tasks_empty = [0 for i in range(len(test_empty))]"
   ]
  },
  {
   "cell_type": "code",
   "execution_count": 78,
   "metadata": {},
   "outputs": [],
   "source": [
    "test_empty_df = pd.DataFrame({'studentId': test_empty, \n",
    "                              'courseId': test_course_empty,\n",
    "                              'score': test_score_empty,\n",
    "                              'number_tasks': test_tasks_empty\n",
    "                             })"
   ]
  },
  {
   "cell_type": "code",
   "execution_count": 79,
   "metadata": {},
   "outputs": [],
   "source": [
    "task_results_temp_sum = pd.concat([task_results_temp_sum, test_empty_df], ignore_index=True)"
   ]
  },
  {
   "cell_type": "code",
   "execution_count": 80,
   "metadata": {},
   "outputs": [
    {
     "data": {
      "text/plain": [
       "(13447, 4)"
      ]
     },
     "execution_count": 80,
     "metadata": {},
     "output_type": "execute_result"
    }
   ],
   "source": [
    "task_results_temp_sum.shape"
   ]
  },
  {
   "cell_type": "markdown",
   "metadata": {},
   "source": [
    "Let's add this data to the initial datasets"
   ]
  },
  {
   "cell_type": "code",
   "execution_count": 82,
   "metadata": {},
   "outputs": [],
   "source": [
    "train = pd.merge(train,task_results_temp_sum, on=['studentId', 'courseId'])\n",
    "test = pd.merge(test,task_results_temp_sum, on=['studentId', 'courseId'])"
   ]
  },
  {
   "cell_type": "markdown",
   "metadata": {},
   "source": [
    "Let's find what part of course's maxScore and tasks each sudent did"
   ]
  },
  {
   "cell_type": "code",
   "execution_count": 83,
   "metadata": {},
   "outputs": [],
   "source": [
    "train['score_part'] = train['score'] / train['maxScore']\n",
    "test['score_part'] = test['score'] / test['maxScore']"
   ]
  },
  {
   "cell_type": "code",
   "execution_count": 84,
   "metadata": {},
   "outputs": [],
   "source": [
    "train['tasks_part'] = train['number_tasks'] / train['len_tasks']\n",
    "test['tasks_part'] = test['number_tasks'] / test['len_tasks']"
   ]
  },
  {
   "cell_type": "code",
   "execution_count": 85,
   "metadata": {},
   "outputs": [
    {
     "data": {
      "text/plain": [
       "((10143, 33), (2991, 32))"
      ]
     },
     "execution_count": 85,
     "metadata": {},
     "output_type": "execute_result"
    }
   ],
   "source": [
    "train.shape, test.shape"
   ]
  },
  {
   "cell_type": "markdown",
   "metadata": {},
   "source": [
    "Now let's do data permutation"
   ]
  },
  {
   "cell_type": "code",
   "execution_count": 86,
   "metadata": {},
   "outputs": [],
   "source": [
    "train = train.sample(frac = 1)"
   ]
  },
  {
   "cell_type": "code",
   "execution_count": 87,
   "metadata": {},
   "outputs": [],
   "source": [
    "test = test.sample(frac = 1)"
   ]
  },
  {
   "cell_type": "code",
   "execution_count": 88,
   "metadata": {},
   "outputs": [
    {
     "data": {
      "text/html": [
       "<div>\n",
       "<style scoped>\n",
       "    .dataframe tbody tr th:only-of-type {\n",
       "        vertical-align: middle;\n",
       "    }\n",
       "\n",
       "    .dataframe tbody tr th {\n",
       "        vertical-align: top;\n",
       "    }\n",
       "\n",
       "    .dataframe thead th {\n",
       "        text-align: right;\n",
       "    }\n",
       "</style>\n",
       "<table border=\"1\" class=\"dataframe\">\n",
       "  <thead>\n",
       "    <tr style=\"text-align: right;\">\n",
       "      <th></th>\n",
       "      <th>studentId</th>\n",
       "      <th>createdDate</th>\n",
       "      <th>updatedDate</th>\n",
       "      <th>isExpelled</th>\n",
       "      <th>expellingReason</th>\n",
       "      <th>courseCompleted</th>\n",
       "      <th>isTopPerformer</th>\n",
       "      <th>preferedMentorGithubId</th>\n",
       "      <th>readyFullTime</th>\n",
       "      <th>courseId</th>\n",
       "      <th>userId</th>\n",
       "      <th>mentorId</th>\n",
       "      <th>cvUrl</th>\n",
       "      <th>hiredById</th>\n",
       "      <th>hiredByName</th>\n",
       "      <th>isFailed</th>\n",
       "      <th>startDate</th>\n",
       "      <th>endDate</th>\n",
       "      <th>repository</th>\n",
       "      <th>repositoryLastActivityDate</th>\n",
       "      <th>idUser</th>\n",
       "      <th>educationHistory</th>\n",
       "      <th>englishLevel</th>\n",
       "      <th>primarySkillId</th>\n",
       "      <th>completed</th>\n",
       "      <th>skill</th>\n",
       "      <th>quarter</th>\n",
       "      <th>maxScore</th>\n",
       "      <th>len_tasks</th>\n",
       "      <th>score</th>\n",
       "      <th>number_tasks</th>\n",
       "      <th>score_part</th>\n",
       "      <th>tasks_part</th>\n",
       "    </tr>\n",
       "  </thead>\n",
       "  <tbody>\n",
       "    <tr>\n",
       "      <th>5450</th>\n",
       "      <td>11909</td>\n",
       "      <td>2020-02-06 06:14:14.457101</td>\n",
       "      <td>2020-07-01 21:12:33.275929</td>\n",
       "      <td>1</td>\n",
       "      <td>Прекратил обучение</td>\n",
       "      <td>f</td>\n",
       "      <td>True</td>\n",
       "      <td>NaN</td>\n",
       "      <td>NaN</td>\n",
       "      <td>13</td>\n",
       "      <td>9687</td>\n",
       "      <td>1</td>\n",
       "      <td>NaN</td>\n",
       "      <td>NaN</td>\n",
       "      <td>NaN</td>\n",
       "      <td>0</td>\n",
       "      <td>2020-02-06 06:14:14.454+00</td>\n",
       "      <td>2020-05-18 07:50:29.31+00</td>\n",
       "      <td>1</td>\n",
       "      <td>0</td>\n",
       "      <td>9687</td>\n",
       "      <td>0</td>\n",
       "      <td>0</td>\n",
       "      <td>1</td>\n",
       "      <td>1</td>\n",
       "      <td>1</td>\n",
       "      <td>1</td>\n",
       "      <td>6083.0</td>\n",
       "      <td>41</td>\n",
       "      <td>2564</td>\n",
       "      <td>30</td>\n",
       "      <td>0.421503</td>\n",
       "      <td>0.731707</td>\n",
       "    </tr>\n",
       "    <tr>\n",
       "      <th>6830</th>\n",
       "      <td>5012</td>\n",
       "      <td>2019-06-25 10:02:39.616027</td>\n",
       "      <td>2019-08-06 12:04:47.324538</td>\n",
       "      <td>0</td>\n",
       "      <td>NaN</td>\n",
       "      <td>f</td>\n",
       "      <td>False</td>\n",
       "      <td>NaN</td>\n",
       "      <td>NaN</td>\n",
       "      <td>9</td>\n",
       "      <td>2889</td>\n",
       "      <td>1</td>\n",
       "      <td>NaN</td>\n",
       "      <td>NaN</td>\n",
       "      <td>NaN</td>\n",
       "      <td>0</td>\n",
       "      <td>2017-12-31 21:00:00.01+00</td>\n",
       "      <td>2018-06-30 21:00:00.01+00</td>\n",
       "      <td>0</td>\n",
       "      <td>0</td>\n",
       "      <td>2889</td>\n",
       "      <td>1</td>\n",
       "      <td>1</td>\n",
       "      <td>1</td>\n",
       "      <td>1</td>\n",
       "      <td>1</td>\n",
       "      <td>1</td>\n",
       "      <td>1960.0</td>\n",
       "      <td>16</td>\n",
       "      <td>700</td>\n",
       "      <td>11</td>\n",
       "      <td>0.357143</td>\n",
       "      <td>0.687500</td>\n",
       "    </tr>\n",
       "    <tr>\n",
       "      <th>1118</th>\n",
       "      <td>8796</td>\n",
       "      <td>2019-10-04 07:08:03.586064</td>\n",
       "      <td>2019-10-04 07:08:03.586064</td>\n",
       "      <td>1</td>\n",
       "      <td>Failed stage 1</td>\n",
       "      <td>f</td>\n",
       "      <td>False</td>\n",
       "      <td>NaN</td>\n",
       "      <td>NaN</td>\n",
       "      <td>11</td>\n",
       "      <td>7305</td>\n",
       "      <td>0</td>\n",
       "      <td>NaN</td>\n",
       "      <td>NaN</td>\n",
       "      <td>NaN</td>\n",
       "      <td>0</td>\n",
       "      <td>2019-10-04 07:08:03.584+00</td>\n",
       "      <td>2019-11-05 21:14:47.316085+00</td>\n",
       "      <td>0</td>\n",
       "      <td>0</td>\n",
       "      <td>7305</td>\n",
       "      <td>0</td>\n",
       "      <td>0</td>\n",
       "      <td>1</td>\n",
       "      <td>1</td>\n",
       "      <td>1</td>\n",
       "      <td>2</td>\n",
       "      <td>4228.0</td>\n",
       "      <td>36</td>\n",
       "      <td>0</td>\n",
       "      <td>2</td>\n",
       "      <td>0.000000</td>\n",
       "      <td>0.055556</td>\n",
       "    </tr>\n",
       "    <tr>\n",
       "      <th>4620</th>\n",
       "      <td>10065</td>\n",
       "      <td>2020-02-02 10:34:36.37635</td>\n",
       "      <td>2020-08-23 20:27:10.960391</td>\n",
       "      <td>1</td>\n",
       "      <td>no completed tasks</td>\n",
       "      <td>f</td>\n",
       "      <td>False</td>\n",
       "      <td>NaN</td>\n",
       "      <td>NaN</td>\n",
       "      <td>13</td>\n",
       "      <td>8506</td>\n",
       "      <td>0</td>\n",
       "      <td>NaN</td>\n",
       "      <td>NaN</td>\n",
       "      <td>NaN</td>\n",
       "      <td>0</td>\n",
       "      <td>2020-02-02 10:34:36.374+00</td>\n",
       "      <td>2020-04-14 17:34:16.479+00</td>\n",
       "      <td>0</td>\n",
       "      <td>0</td>\n",
       "      <td>8506</td>\n",
       "      <td>0</td>\n",
       "      <td>0</td>\n",
       "      <td>1</td>\n",
       "      <td>1</td>\n",
       "      <td>1</td>\n",
       "      <td>1</td>\n",
       "      <td>6083.0</td>\n",
       "      <td>41</td>\n",
       "      <td>0</td>\n",
       "      <td>0</td>\n",
       "      <td>0.000000</td>\n",
       "      <td>0.000000</td>\n",
       "    </tr>\n",
       "    <tr>\n",
       "      <th>9410</th>\n",
       "      <td>20</td>\n",
       "      <td>2019-04-22 16:15:16.284972</td>\n",
       "      <td>2019-08-14 10:45:11.681663</td>\n",
       "      <td>0</td>\n",
       "      <td>NaN</td>\n",
       "      <td>f</td>\n",
       "      <td>True</td>\n",
       "      <td>NaN</td>\n",
       "      <td>NaN</td>\n",
       "      <td>1</td>\n",
       "      <td>755</td>\n",
       "      <td>1</td>\n",
       "      <td>NaN</td>\n",
       "      <td>NaN</td>\n",
       "      <td>NaN</td>\n",
       "      <td>0</td>\n",
       "      <td>2019-01-01 00:49:13.461+00</td>\n",
       "      <td>2019-08-25 00:49:13.461+00</td>\n",
       "      <td>0</td>\n",
       "      <td>0</td>\n",
       "      <td>755</td>\n",
       "      <td>1</td>\n",
       "      <td>0</td>\n",
       "      <td>1</td>\n",
       "      <td>1</td>\n",
       "      <td>1</td>\n",
       "      <td>1</td>\n",
       "      <td>2027.0</td>\n",
       "      <td>15</td>\n",
       "      <td>1510</td>\n",
       "      <td>12</td>\n",
       "      <td>0.744943</td>\n",
       "      <td>0.800000</td>\n",
       "    </tr>\n",
       "  </tbody>\n",
       "</table>\n",
       "</div>"
      ],
      "text/plain": [
       "      studentId                 createdDate                 updatedDate  \\\n",
       "5450      11909  2020-02-06 06:14:14.457101  2020-07-01 21:12:33.275929   \n",
       "6830       5012  2019-06-25 10:02:39.616027  2019-08-06 12:04:47.324538   \n",
       "1118       8796  2019-10-04 07:08:03.586064  2019-10-04 07:08:03.586064   \n",
       "4620      10065   2020-02-02 10:34:36.37635  2020-08-23 20:27:10.960391   \n",
       "9410         20  2019-04-22 16:15:16.284972  2019-08-14 10:45:11.681663   \n",
       "\n",
       "      isExpelled     expellingReason courseCompleted  isTopPerformer  \\\n",
       "5450           1  Прекратил обучение               f            True   \n",
       "6830           0                 NaN               f           False   \n",
       "1118           1      Failed stage 1               f           False   \n",
       "4620           1  no completed tasks               f           False   \n",
       "9410           0                 NaN               f            True   \n",
       "\n",
       "      preferedMentorGithubId readyFullTime  courseId  userId  mentorId  cvUrl  \\\n",
       "5450                     NaN           NaN        13    9687         1    NaN   \n",
       "6830                     NaN           NaN         9    2889         1    NaN   \n",
       "1118                     NaN           NaN        11    7305         0    NaN   \n",
       "4620                     NaN           NaN        13    8506         0    NaN   \n",
       "9410                     NaN           NaN         1     755         1    NaN   \n",
       "\n",
       "      hiredById  hiredByName  isFailed                   startDate  \\\n",
       "5450        NaN          NaN         0  2020-02-06 06:14:14.454+00   \n",
       "6830        NaN          NaN         0   2017-12-31 21:00:00.01+00   \n",
       "1118        NaN          NaN         0  2019-10-04 07:08:03.584+00   \n",
       "4620        NaN          NaN         0  2020-02-02 10:34:36.374+00   \n",
       "9410        NaN          NaN         0  2019-01-01 00:49:13.461+00   \n",
       "\n",
       "                            endDate  repository  repositoryLastActivityDate  \\\n",
       "5450      2020-05-18 07:50:29.31+00           1                           0   \n",
       "6830      2018-06-30 21:00:00.01+00           0                           0   \n",
       "1118  2019-11-05 21:14:47.316085+00           0                           0   \n",
       "4620     2020-04-14 17:34:16.479+00           0                           0   \n",
       "9410     2019-08-25 00:49:13.461+00           0                           0   \n",
       "\n",
       "      idUser  educationHistory  englishLevel  primarySkillId  completed  \\\n",
       "5450    9687                 0             0               1          1   \n",
       "6830    2889                 1             1               1          1   \n",
       "1118    7305                 0             0               1          1   \n",
       "4620    8506                 0             0               1          1   \n",
       "9410     755                 1             0               1          1   \n",
       "\n",
       "      skill  quarter  maxScore  len_tasks  score  number_tasks  score_part  \\\n",
       "5450      1        1    6083.0         41   2564            30    0.421503   \n",
       "6830      1        1    1960.0         16    700            11    0.357143   \n",
       "1118      1        2    4228.0         36      0             2    0.000000   \n",
       "4620      1        1    6083.0         41      0             0    0.000000   \n",
       "9410      1        1    2027.0         15   1510            12    0.744943   \n",
       "\n",
       "      tasks_part  \n",
       "5450    0.731707  \n",
       "6830    0.687500  \n",
       "1118    0.055556  \n",
       "4620    0.000000  \n",
       "9410    0.800000  "
      ]
     },
     "execution_count": 88,
     "metadata": {},
     "output_type": "execute_result"
    }
   ],
   "source": [
    "train.head()"
   ]
  },
  {
   "cell_type": "markdown",
   "metadata": {},
   "source": [
    "Now let's drop some unuseful features"
   ]
  },
  {
   "cell_type": "code",
   "execution_count": 89,
   "metadata": {},
   "outputs": [],
   "source": [
    "train = train.drop(['studentId',\n",
    "                    'createdDate',\n",
    "                    'updatedDate',\n",
    "                    #'isExpelled',\n",
    "                    'expellingReason',\n",
    "                    'courseCompleted',\n",
    "                    'preferedMentorGithubId',\n",
    "                    'readyFullTime',\n",
    "                    'courseId',\n",
    "                    'userId',\n",
    "                    'cvUrl',\n",
    "                    'hiredById',\n",
    "                    'hiredByName',\n",
    "                    #'isFailed',\n",
    "                    #'repositoryLastActivityDate',\n",
    "                    'idUser',\n",
    "                    'startDate',\n",
    "                    'endDate',\n",
    "                    #'educationHistory',\n",
    "                    #'englishLevel',\n",
    "                    'primarySkillId',\n",
    "                    #'completed',\n",
    "                    #'skill',\n",
    "                    #'quarter',\n",
    "                    'maxScore',\n",
    "                    'len_tasks',\n",
    "                    'score',\n",
    "                    'number_tasks',\n",
    "                   ], axis=1)"
   ]
  },
  {
   "cell_type": "code",
   "execution_count": 90,
   "metadata": {},
   "outputs": [],
   "source": [
    "test = test.drop(['createdDate',\n",
    "                  'updatedDate',\n",
    "                  #'isExpelled',\n",
    "                  'expellingReason',\n",
    "                  'courseCompleted',\n",
    "                  'preferedMentorGithubId',\n",
    "                  'readyFullTime',\n",
    "                  'courseId',\n",
    "                  'userId',\n",
    "                  'cvUrl',\n",
    "                  'hiredById',\n",
    "                  'hiredByName',\n",
    "                  #'isFailed',\n",
    "                  #'repositoryLastActivityDate',\n",
    "                  'idUser',\n",
    "                  'startDate',\n",
    "                  'endDate',\n",
    "                  #'educationHistory',\n",
    "                  #'englishLevel',\n",
    "                  'primarySkillId',\n",
    "                  #'completed',\n",
    "                  #'skill',\n",
    "                  #'quarter',\n",
    "                  'maxScore',\n",
    "                  'len_tasks',\n",
    "                  'score',\n",
    "                  'number_tasks',\n",
    "                   ], axis=1)"
   ]
  },
  {
   "cell_type": "code",
   "execution_count": 91,
   "metadata": {},
   "outputs": [
    {
     "name": "stdout",
     "output_type": "stream",
     "text": [
      "<class 'pandas.core.frame.DataFrame'>\n",
      "Int64Index: 10143 entries, 5450 to 6836\n",
      "Data columns (total 13 columns):\n",
      " #   Column                      Non-Null Count  Dtype  \n",
      "---  ------                      --------------  -----  \n",
      " 0   isExpelled                  10143 non-null  int64  \n",
      " 1   isTopPerformer              10143 non-null  bool   \n",
      " 2   mentorId                    10143 non-null  int64  \n",
      " 3   isFailed                    10143 non-null  int64  \n",
      " 4   repository                  10143 non-null  int64  \n",
      " 5   repositoryLastActivityDate  10143 non-null  int64  \n",
      " 6   educationHistory            10143 non-null  int64  \n",
      " 7   englishLevel                10143 non-null  int64  \n",
      " 8   completed                   10143 non-null  int64  \n",
      " 9   skill                       10143 non-null  int64  \n",
      " 10  quarter                     10143 non-null  int64  \n",
      " 11  score_part                  10143 non-null  float64\n",
      " 12  tasks_part                  10143 non-null  float64\n",
      "dtypes: bool(1), float64(2), int64(10)\n",
      "memory usage: 1.0 MB\n"
     ]
    }
   ],
   "source": [
    "train.info()"
   ]
  },
  {
   "cell_type": "code",
   "execution_count": 92,
   "metadata": {},
   "outputs": [
    {
     "name": "stdout",
     "output_type": "stream",
     "text": [
      "<class 'pandas.core.frame.DataFrame'>\n",
      "Int64Index: 2991 entries, 235 to 843\n",
      "Data columns (total 13 columns):\n",
      " #   Column                      Non-Null Count  Dtype  \n",
      "---  ------                      --------------  -----  \n",
      " 0   studentId                   2991 non-null   int64  \n",
      " 1   isExpelled                  2991 non-null   int64  \n",
      " 2   mentorId                    2991 non-null   int64  \n",
      " 3   isFailed                    2991 non-null   int64  \n",
      " 4   repository                  2991 non-null   int64  \n",
      " 5   repositoryLastActivityDate  2991 non-null   int64  \n",
      " 6   educationHistory            2991 non-null   int64  \n",
      " 7   englishLevel                2991 non-null   int64  \n",
      " 8   completed                   2991 non-null   int64  \n",
      " 9   skill                       2991 non-null   int64  \n",
      " 10  quarter                     2991 non-null   int64  \n",
      " 11  score_part                  2991 non-null   float64\n",
      " 12  tasks_part                  2991 non-null   float64\n",
      "dtypes: float64(2), int64(11)\n",
      "memory usage: 327.1 KB\n"
     ]
    }
   ],
   "source": [
    "test.info()"
   ]
  },
  {
   "cell_type": "markdown",
   "metadata": {},
   "source": [
    "Let's convert target feature to needed format"
   ]
  },
  {
   "cell_type": "code",
   "execution_count": 93,
   "metadata": {},
   "outputs": [],
   "source": [
    "train['isTopPerformer'] = train['isTopPerformer'].astype(str)"
   ]
  },
  {
   "cell_type": "code",
   "execution_count": 94,
   "metadata": {},
   "outputs": [],
   "source": [
    "train.loc[train['isTopPerformer'] == 'False', 'isTopPerformer'] = 0\n",
    "train.loc[train['isTopPerformer'] == 'True', 'isTopPerformer'] = 1\n",
    "train['isTopPerformer'] = train['isTopPerformer'].astype(int)"
   ]
  },
  {
   "cell_type": "code",
   "execution_count": 95,
   "metadata": {},
   "outputs": [
    {
     "name": "stdout",
     "output_type": "stream",
     "text": [
      "<class 'pandas.core.frame.DataFrame'>\n",
      "Int64Index: 10143 entries, 5450 to 6836\n",
      "Data columns (total 13 columns):\n",
      " #   Column                      Non-Null Count  Dtype  \n",
      "---  ------                      --------------  -----  \n",
      " 0   isExpelled                  10143 non-null  int64  \n",
      " 1   isTopPerformer              10143 non-null  int64  \n",
      " 2   mentorId                    10143 non-null  int64  \n",
      " 3   isFailed                    10143 non-null  int64  \n",
      " 4   repository                  10143 non-null  int64  \n",
      " 5   repositoryLastActivityDate  10143 non-null  int64  \n",
      " 6   educationHistory            10143 non-null  int64  \n",
      " 7   englishLevel                10143 non-null  int64  \n",
      " 8   completed                   10143 non-null  int64  \n",
      " 9   skill                       10143 non-null  int64  \n",
      " 10  quarter                     10143 non-null  int64  \n",
      " 11  score_part                  10143 non-null  float64\n",
      " 12  tasks_part                  10143 non-null  float64\n",
      "dtypes: float64(2), int64(11)\n",
      "memory usage: 1.1 MB\n"
     ]
    }
   ],
   "source": [
    "train.info()"
   ]
  },
  {
   "cell_type": "code",
   "execution_count": 96,
   "metadata": {},
   "outputs": [
    {
     "data": {
      "text/html": [
       "<div>\n",
       "<style scoped>\n",
       "    .dataframe tbody tr th:only-of-type {\n",
       "        vertical-align: middle;\n",
       "    }\n",
       "\n",
       "    .dataframe tbody tr th {\n",
       "        vertical-align: top;\n",
       "    }\n",
       "\n",
       "    .dataframe thead th {\n",
       "        text-align: right;\n",
       "    }\n",
       "</style>\n",
       "<table border=\"1\" class=\"dataframe\">\n",
       "  <thead>\n",
       "    <tr style=\"text-align: right;\">\n",
       "      <th></th>\n",
       "      <th>studentId</th>\n",
       "      <th>isExpelled</th>\n",
       "      <th>mentorId</th>\n",
       "      <th>isFailed</th>\n",
       "      <th>repository</th>\n",
       "      <th>repositoryLastActivityDate</th>\n",
       "      <th>educationHistory</th>\n",
       "      <th>englishLevel</th>\n",
       "      <th>completed</th>\n",
       "      <th>skill</th>\n",
       "      <th>quarter</th>\n",
       "      <th>score_part</th>\n",
       "      <th>tasks_part</th>\n",
       "    </tr>\n",
       "  </thead>\n",
       "  <tbody>\n",
       "    <tr>\n",
       "      <th>235</th>\n",
       "      <td>6411</td>\n",
       "      <td>0</td>\n",
       "      <td>1</td>\n",
       "      <td>0</td>\n",
       "      <td>1</td>\n",
       "      <td>0</td>\n",
       "      <td>0</td>\n",
       "      <td>0</td>\n",
       "      <td>1</td>\n",
       "      <td>1</td>\n",
       "      <td>2</td>\n",
       "      <td>0.274834</td>\n",
       "      <td>0.388889</td>\n",
       "    </tr>\n",
       "    <tr>\n",
       "      <th>1065</th>\n",
       "      <td>10525</td>\n",
       "      <td>0</td>\n",
       "      <td>0</td>\n",
       "      <td>0</td>\n",
       "      <td>1</td>\n",
       "      <td>0</td>\n",
       "      <td>0</td>\n",
       "      <td>0</td>\n",
       "      <td>1</td>\n",
       "      <td>1</td>\n",
       "      <td>1</td>\n",
       "      <td>0.428736</td>\n",
       "      <td>0.756098</td>\n",
       "    </tr>\n",
       "    <tr>\n",
       "      <th>2284</th>\n",
       "      <td>13349</td>\n",
       "      <td>0</td>\n",
       "      <td>0</td>\n",
       "      <td>0</td>\n",
       "      <td>0</td>\n",
       "      <td>0</td>\n",
       "      <td>0</td>\n",
       "      <td>0</td>\n",
       "      <td>0</td>\n",
       "      <td>0</td>\n",
       "      <td>0</td>\n",
       "      <td>0.000000</td>\n",
       "      <td>0.000000</td>\n",
       "    </tr>\n",
       "    <tr>\n",
       "      <th>887</th>\n",
       "      <td>11040</td>\n",
       "      <td>0</td>\n",
       "      <td>1</td>\n",
       "      <td>0</td>\n",
       "      <td>1</td>\n",
       "      <td>1</td>\n",
       "      <td>1</td>\n",
       "      <td>1</td>\n",
       "      <td>1</td>\n",
       "      <td>1</td>\n",
       "      <td>1</td>\n",
       "      <td>1.153543</td>\n",
       "      <td>1.536585</td>\n",
       "    </tr>\n",
       "    <tr>\n",
       "      <th>1822</th>\n",
       "      <td>15283</td>\n",
       "      <td>0</td>\n",
       "      <td>0</td>\n",
       "      <td>0</td>\n",
       "      <td>0</td>\n",
       "      <td>0</td>\n",
       "      <td>0</td>\n",
       "      <td>0</td>\n",
       "      <td>0</td>\n",
       "      <td>0</td>\n",
       "      <td>2</td>\n",
       "      <td>0.000000</td>\n",
       "      <td>0.000000</td>\n",
       "    </tr>\n",
       "  </tbody>\n",
       "</table>\n",
       "</div>"
      ],
      "text/plain": [
       "      studentId  isExpelled  mentorId  isFailed  repository  \\\n",
       "235        6411           0         1         0           1   \n",
       "1065      10525           0         0         0           1   \n",
       "2284      13349           0         0         0           0   \n",
       "887       11040           0         1         0           1   \n",
       "1822      15283           0         0         0           0   \n",
       "\n",
       "      repositoryLastActivityDate  educationHistory  englishLevel  completed  \\\n",
       "235                            0                 0             0          1   \n",
       "1065                           0                 0             0          1   \n",
       "2284                           0                 0             0          0   \n",
       "887                            1                 1             1          1   \n",
       "1822                           0                 0             0          0   \n",
       "\n",
       "      skill  quarter  score_part  tasks_part  \n",
       "235       1        2    0.274834    0.388889  \n",
       "1065      1        1    0.428736    0.756098  \n",
       "2284      0        0    0.000000    0.000000  \n",
       "887       1        1    1.153543    1.536585  \n",
       "1822      0        2    0.000000    0.000000  "
      ]
     },
     "execution_count": 96,
     "metadata": {},
     "output_type": "execute_result"
    }
   ],
   "source": [
    "test.head()"
   ]
  },
  {
   "cell_type": "markdown",
   "metadata": {},
   "source": [
    "Let's look on correlation matrix"
   ]
  },
  {
   "cell_type": "code",
   "execution_count": 98,
   "metadata": {},
   "outputs": [
    {
     "data": {
      "text/plain": [
       "<AxesSubplot:>"
      ]
     },
     "execution_count": 98,
     "metadata": {},
     "output_type": "execute_result"
    },
    {
     "data": {
      "image/png": "[encoded data removed]",
      "text/plain": [
       "<Figure size 2160x720 with 2 Axes>"
      ]
     },
     "metadata": {
      "needs_background": "light"
     },
     "output_type": "display_data"
    }
   ],
   "source": [
    "plt.figure(figsize=(30,10))\n",
    "sns.heatmap(train.corr(), vmax=0.6, square=True, annot=True)"
   ]
  },
  {
   "cell_type": "markdown",
   "metadata": {},
   "source": [
    "Let's drop the target feature and define X and y datasets for model training"
   ]
  },
  {
   "cell_type": "code",
   "execution_count": 99,
   "metadata": {},
   "outputs": [],
   "source": [
    "X = train.drop(['isTopPerformer'], axis=1)\n",
    "y = train['isTopPerformer']"
   ]
  },
  {
   "cell_type": "code",
   "execution_count": 100,
   "metadata": {},
   "outputs": [],
   "source": [
    "X_test = test.drop(['studentId'], axis=1)"
   ]
  },
  {
   "cell_type": "code",
   "execution_count": 102,
   "metadata": {},
   "outputs": [],
   "source": [
    "from sklearn.model_selection import RepeatedStratifiedKFold\n",
    "from sklearn.model_selection import cross_val_score\n",
    "from sklearn.metrics import plot_confusion_matrix\n",
    "from sklearn.linear_model import SGDClassifier, LogisticRegression\n",
    "from sklearn.preprocessing import StandardScaler\n",
    "from sklearn.neighbors import KNeighborsClassifier\n",
    "from sklearn.ensemble import RandomForestClassifier\n",
    "from sklearn.pipeline import make_pipeline\n",
    "from imblearn.pipeline import Pipeline\n",
    "from imblearn.over_sampling import SMOTE\n",
    "from imblearn.under_sampling import RandomUnderSampler"
   ]
  },
  {
   "cell_type": "code",
   "execution_count": 103,
   "metadata": {},
   "outputs": [],
   "source": [
    "rs_fold = RepeatedStratifiedKFold(n_splits=10, n_repeats=3, random_state=1)"
   ]
  },
  {
   "cell_type": "markdown",
   "metadata": {},
   "source": [
    "As we mentioned earlier, our target classes are imbalanced. Let's use SMOTE library."
   ]
  },
  {
   "cell_type": "code",
   "execution_count": 104,
   "metadata": {},
   "outputs": [],
   "source": [
    "over = SMOTE(sampling_strategy=0.5)\n",
    "under = RandomUnderSampler(sampling_strategy=0.7)"
   ]
  },
  {
   "cell_type": "markdown",
   "metadata": {},
   "source": [
    "Let's define some models"
   ]
  },
  {
   "cell_type": "code",
   "execution_count": 105,
   "metadata": {},
   "outputs": [],
   "source": [
    "lr = LogisticRegression(C=0.001, class_weight='balanced', max_iter=10000, random_state=42)\n",
    "rfc = RandomForestClassifier(random_state=42)\n",
    "scaler = StandardScaler()"
   ]
  },
  {
   "cell_type": "markdown",
   "metadata": {},
   "source": [
    "Train models one-by-one with cross-validation and save results"
   ]
  },
  {
   "cell_type": "code",
   "execution_count": 106,
   "metadata": {},
   "outputs": [],
   "source": [
    "models_f1 = []\n",
    "\n",
    "# Without feature scaling, logistic regression\n",
    "models_f1.append(cross_val_score(lr, X, y, scoring='f1', cv=rs_fold).mean())\n",
    "\n",
    "#With scaling StandardScaler + LogisticRegression\n",
    "model_scaling = make_pipeline(StandardScaler(), lr)\n",
    "models_f1.append(cross_val_score(model_scaling, X, y, scoring='f1', cv=rs_fold).mean())\n",
    "\n",
    "# Without SMOTE + logistic regression\n",
    "steps_lr = [('over', over), ('under', under), ('model', lr)]\n",
    "pipeline_lr = Pipeline(steps=steps_lr)\n",
    "models_f1.append(cross_val_score(pipeline_lr, X, y, scoring='f1', cv=rs_fold).mean())\n",
    "\n",
    "#With SMOTE + StandardScaler + LogisticRegression\n",
    "steps_scaling_lr = [('over', over), ('under', under), ('scaling', StandardScaler()), ('model', lr)]\n",
    "pipeline_scaling_lr = Pipeline(steps=steps_scaling_lr)\n",
    "models_f1.append(cross_val_score(pipeline_scaling_lr, X, y, scoring='f1', cv=rs_fold).mean())\n",
    "\n",
    "# Without feature scaling, RandomForestClassification\n",
    "models_f1.append(cross_val_score(rfc, X, y, scoring='f1', cv=rs_fold).mean())\n",
    "\n",
    "#With scaling StandardScaler + RFC\n",
    "model_scaling_rfc = make_pipeline(StandardScaler(), rfc)\n",
    "models_f1.append(cross_val_score(model_scaling_rfc, X, y, scoring='f1', cv=rs_fold).mean())\n",
    "\n",
    "# Without SMOTE+RandomForestClassification\n",
    "steps_rfc = [('over', over), ('under', under), ('model', rfc)]\n",
    "pipeline_rfc = Pipeline(steps=steps_rfc)\n",
    "models_f1.append(cross_val_score(pipeline_rfc, X, y, scoring='f1', cv=rs_fold).mean())"
   ]
  },
  {
   "cell_type": "code",
   "execution_count": 107,
   "metadata": {
    "scrolled": true
   },
   "outputs": [
    {
     "data": {
      "text/html": [
       "<div>\n",
       "<style scoped>\n",
       "    .dataframe tbody tr th:only-of-type {\n",
       "        vertical-align: middle;\n",
       "    }\n",
       "\n",
       "    .dataframe tbody tr th {\n",
       "        vertical-align: top;\n",
       "    }\n",
       "\n",
       "    .dataframe thead th {\n",
       "        text-align: right;\n",
       "    }\n",
       "</style>\n",
       "<table border=\"1\" class=\"dataframe\">\n",
       "  <thead>\n",
       "    <tr style=\"text-align: right;\">\n",
       "      <th></th>\n",
       "      <th>f1</th>\n",
       "    </tr>\n",
       "  </thead>\n",
       "  <tbody>\n",
       "    <tr>\n",
       "      <th>LogisticRegression</th>\n",
       "      <td>0.829039</td>\n",
       "    </tr>\n",
       "    <tr>\n",
       "      <th>StandardScaler+LogisticRegression</th>\n",
       "      <td>0.836251</td>\n",
       "    </tr>\n",
       "    <tr>\n",
       "      <th>SMOTE+LogisticRegression</th>\n",
       "      <td>0.827468</td>\n",
       "    </tr>\n",
       "    <tr>\n",
       "      <th>SMOTE+StandardScaler+LogisticRegression</th>\n",
       "      <td>0.833092</td>\n",
       "    </tr>\n",
       "    <tr>\n",
       "      <th>RFC</th>\n",
       "      <td>0.938778</td>\n",
       "    </tr>\n",
       "    <tr>\n",
       "      <th>StandardScaler+RFC</th>\n",
       "      <td>0.939106</td>\n",
       "    </tr>\n",
       "    <tr>\n",
       "      <th>SMOTE+RFC</th>\n",
       "      <td>0.936339</td>\n",
       "    </tr>\n",
       "  </tbody>\n",
       "</table>\n",
       "</div>"
      ],
      "text/plain": [
       "                                               f1\n",
       "LogisticRegression                       0.829039\n",
       "StandardScaler+LogisticRegression        0.836251\n",
       "SMOTE+LogisticRegression                 0.827468\n",
       "SMOTE+StandardScaler+LogisticRegression  0.833092\n",
       "RFC                                      0.938778\n",
       "StandardScaler+RFC                       0.939106\n",
       "SMOTE+RFC                                0.936339"
      ]
     },
     "execution_count": 107,
     "metadata": {},
     "output_type": "execute_result"
    }
   ],
   "source": [
    "accuracy_df = pd.DataFrame({'f1': models_f1}, \n",
    "                           index = [\n",
    "                                    'LogisticRegression', 'StandardScaler+LogisticRegression',\n",
    "                                    'SMOTE+LogisticRegression', 'SMOTE+StandardScaler+LogisticRegression',\n",
    "                                    'RFC', 'StandardScaler+RFC', 'SMOTE+RFC'\n",
    "                                   ])\n",
    "accuracy_df"
   ]
  },
  {
   "cell_type": "markdown",
   "metadata": {},
   "source": [
    "It seems that RandomForest was overfitted.  \n",
    "So, let's take the following combination: StandardScaler+LogisticRegression"
   ]
  },
  {
   "cell_type": "code",
   "execution_count": 108,
   "metadata": {},
   "outputs": [],
   "source": [
    "def make_submission(df, pred, n):\n",
    "    '''\n",
    "    Create submission file\n",
    "    :param df: test dataframe\n",
    "    :param pred: predictions\n",
    "    :n: numner of the file\n",
    "    :returns: submission file in the appropriate format\n",
    "    '''\n",
    "    submission = pd.DataFrame({\n",
    "            \"studentId\": df[\"studentId\"],\n",
    "            \"isTopPerformer\": pred\n",
    "        })\n",
    "\n",
    "    submission.to_csv('submission_RSS_{}.csv'.format(n), index=False)"
   ]
  },
  {
   "cell_type": "code",
   "execution_count": 109,
   "metadata": {},
   "outputs": [],
   "source": [
    "model_scaling.fit(X, y)\n",
    "y_pred_scaling_lr = model_scaling.predict(X_test)\n",
    "y_pred_fin_scaling_lr = []\n",
    "for i in y_pred_scaling_lr:\n",
    "    if i == 0:\n",
    "        y_pred_fin_scaling_lr.append('False')\n",
    "    else:\n",
    "        y_pred_fin_scaling_lr.append('True')\n",
    "make_submission(test, y_pred_fin_scaling_lr, 1)"
   ]
  },
  {
   "cell_type": "code",
   "execution_count": null,
   "metadata": {},
   "outputs": [],
   "source": []
  }
 ],
 "metadata": {
  "kernelspec": {
   "display_name": "Python 3",
   "language": "python",
   "name": "python3"
  },
  "language_info": {
   "codemirror_mode": {
    "name": "ipython",
    "version": 3
   },
   "file_extension": ".py",
   "mimetype": "text/x-python",
   "name": "python",
   "nbconvert_exporter": "python",
   "pygments_lexer": "ipython3",
   "version": "3.7.6"
  }
 },
 "nbformat": 4,
 "nbformat_minor": 4
}
